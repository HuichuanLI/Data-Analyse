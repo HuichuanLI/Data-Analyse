{
 "cells": [
  {
   "cell_type": "code",
   "execution_count": 1,
   "metadata": {},
   "outputs": [],
   "source": [
    "import pandas as pd\n",
    "import numpy as np\n",
    "import scipy.stats as ss\n",
    "import seaborn as sns\n",
    "import matplotlib.pyplot as plt"
   ]
  },
  {
   "cell_type": "code",
   "execution_count": 2,
   "metadata": {},
   "outputs": [],
   "source": [
    "    #特征选择\n",
    "    df=pd.DataFrame({\"A\":ss.norm.rvs(size=10),\"B\":ss.norm.rvs(size=10),\\\n",
    "                     \"C\":ss.norm.rvs(size=10),\"D\":np.random.randint(low=0,high=2,size=10)})"
   ]
  },
  {
   "cell_type": "code",
   "execution_count": 3,
   "metadata": {},
   "outputs": [
    {
     "data": {
      "text/html": [
       "<div>\n",
       "<style scoped>\n",
       "    .dataframe tbody tr th:only-of-type {\n",
       "        vertical-align: middle;\n",
       "    }\n",
       "\n",
       "    .dataframe tbody tr th {\n",
       "        vertical-align: top;\n",
       "    }\n",
       "\n",
       "    .dataframe thead th {\n",
       "        text-align: right;\n",
       "    }\n",
       "</style>\n",
       "<table border=\"1\" class=\"dataframe\">\n",
       "  <thead>\n",
       "    <tr style=\"text-align: right;\">\n",
       "      <th></th>\n",
       "      <th>A</th>\n",
       "      <th>B</th>\n",
       "      <th>C</th>\n",
       "      <th>D</th>\n",
       "    </tr>\n",
       "  </thead>\n",
       "  <tbody>\n",
       "    <tr>\n",
       "      <th>0</th>\n",
       "      <td>-0.441526</td>\n",
       "      <td>-1.453591</td>\n",
       "      <td>0.261520</td>\n",
       "      <td>1</td>\n",
       "    </tr>\n",
       "    <tr>\n",
       "      <th>1</th>\n",
       "      <td>-0.131134</td>\n",
       "      <td>-0.058023</td>\n",
       "      <td>-2.350293</td>\n",
       "      <td>1</td>\n",
       "    </tr>\n",
       "    <tr>\n",
       "      <th>2</th>\n",
       "      <td>0.706925</td>\n",
       "      <td>0.180733</td>\n",
       "      <td>-1.903122</td>\n",
       "      <td>1</td>\n",
       "    </tr>\n",
       "    <tr>\n",
       "      <th>3</th>\n",
       "      <td>-1.298551</td>\n",
       "      <td>-0.499659</td>\n",
       "      <td>-1.293410</td>\n",
       "      <td>0</td>\n",
       "    </tr>\n",
       "    <tr>\n",
       "      <th>4</th>\n",
       "      <td>0.922483</td>\n",
       "      <td>1.226597</td>\n",
       "      <td>-1.494647</td>\n",
       "      <td>1</td>\n",
       "    </tr>\n",
       "    <tr>\n",
       "      <th>5</th>\n",
       "      <td>0.390577</td>\n",
       "      <td>-1.198977</td>\n",
       "      <td>-0.324572</td>\n",
       "      <td>1</td>\n",
       "    </tr>\n",
       "    <tr>\n",
       "      <th>6</th>\n",
       "      <td>0.004753</td>\n",
       "      <td>2.257795</td>\n",
       "      <td>-0.501934</td>\n",
       "      <td>1</td>\n",
       "    </tr>\n",
       "    <tr>\n",
       "      <th>7</th>\n",
       "      <td>-0.085302</td>\n",
       "      <td>1.042766</td>\n",
       "      <td>0.352984</td>\n",
       "      <td>1</td>\n",
       "    </tr>\n",
       "    <tr>\n",
       "      <th>8</th>\n",
       "      <td>-1.324923</td>\n",
       "      <td>-0.396631</td>\n",
       "      <td>-0.894827</td>\n",
       "      <td>1</td>\n",
       "    </tr>\n",
       "    <tr>\n",
       "      <th>9</th>\n",
       "      <td>0.772560</td>\n",
       "      <td>1.146101</td>\n",
       "      <td>-0.390633</td>\n",
       "      <td>1</td>\n",
       "    </tr>\n",
       "  </tbody>\n",
       "</table>\n",
       "</div>"
      ],
      "text/plain": [
       "          A         B         C  D\n",
       "0 -0.441526 -1.453591  0.261520  1\n",
       "1 -0.131134 -0.058023 -2.350293  1\n",
       "2  0.706925  0.180733 -1.903122  1\n",
       "3 -1.298551 -0.499659 -1.293410  0\n",
       "4  0.922483  1.226597 -1.494647  1\n",
       "5  0.390577 -1.198977 -0.324572  1\n",
       "6  0.004753  2.257795 -0.501934  1\n",
       "7 -0.085302  1.042766  0.352984  1\n",
       "8 -1.324923 -0.396631 -0.894827  1\n",
       "9  0.772560  1.146101 -0.390633  1"
      ]
     },
     "execution_count": 3,
     "metadata": {},
     "output_type": "execute_result"
    }
   ],
   "source": [
    "df"
   ]
  },
  {
   "cell_type": "code",
   "execution_count": 4,
   "metadata": {},
   "outputs": [],
   "source": [
    "from sklearn.svm import SVR"
   ]
  },
  {
   "cell_type": "code",
   "execution_count": 5,
   "metadata": {},
   "outputs": [],
   "source": [
    "from sklearn.tree import DecisionTreeRegressor\n"
   ]
  },
  {
   "cell_type": "code",
   "execution_count": 6,
   "metadata": {},
   "outputs": [],
   "source": [
    "X=df.loc[:,[\"A\",\"B\",\"C\"]]\n",
    "Y=df.loc[:,\"D\"]"
   ]
  },
  {
   "cell_type": "code",
   "execution_count": 7,
   "metadata": {},
   "outputs": [],
   "source": [
    "from sklearn.feature_selection import SelectKBest,RFE,SelectFromModel"
   ]
  },
  {
   "cell_type": "code",
   "execution_count": 8,
   "metadata": {},
   "outputs": [
    {
     "name": "stdout",
     "output_type": "stream",
     "text": [
      "[[-0.44152552 -1.45359087]\n",
      " [-0.13113368 -0.05802276]\n",
      " [ 0.70692478  0.18073328]\n",
      " [-1.29855134 -0.49965855]\n",
      " [ 0.92248323  1.22659726]\n",
      " [ 0.39057685 -1.1989768 ]\n",
      " [ 0.00475314  2.25779461]\n",
      " [-0.08530223  1.04276572]\n",
      " [-1.32492278 -0.39663084]\n",
      " [ 0.77255974  1.14610123]]\n"
     ]
    }
   ],
   "source": [
    "# 过滤思想 -- 相关性去\n",
    "skb=SelectKBest(k=2)\n",
    "skb.fit(X.values,Y.values)\n",
    "print(skb.transform(X.values))\n",
    "# 保留A.B"
   ]
  },
  {
   "cell_type": "code",
   "execution_count": 9,
   "metadata": {},
   "outputs": [
    {
     "name": "stdout",
     "output_type": "stream",
     "text": [
      "[[-0.44152552  0.26151966]\n",
      " [-0.13113368 -2.35029304]\n",
      " [ 0.70692478 -1.90312233]\n",
      " [-1.29855134 -1.29340997]\n",
      " [ 0.92248323 -1.49464746]\n",
      " [ 0.39057685 -0.32457234]\n",
      " [ 0.00475314 -0.50193419]\n",
      " [-0.08530223  0.3529842 ]\n",
      " [-1.32492278 -0.89482725]\n",
      " [ 0.77255974 -0.39063338]]\n"
     ]
    }
   ],
   "source": [
    "# 包裹法\n",
    "rfe=RFE(estimator=SVR(kernel=\"linear\"),n_features_to_select=2,step=1)\n",
    "print(rfe.fit_transform(X,Y))\n",
    "# 保留A,C"
   ]
  },
  {
   "cell_type": "code",
   "execution_count": 11,
   "metadata": {},
   "outputs": [
    {
     "name": "stdout",
     "output_type": "stream",
     "text": [
      "[[-0.44152552 -1.45359087]\n",
      " [-0.13113368 -0.05802276]\n",
      " [ 0.70692478  0.18073328]\n",
      " [-1.29855134 -0.49965855]\n",
      " [ 0.92248323  1.22659726]\n",
      " [ 0.39057685 -1.1989768 ]\n",
      " [ 0.00475314  2.25779461]\n",
      " [-0.08530223  1.04276572]\n",
      " [-1.32492278 -0.39663084]\n",
      " [ 0.77255974  1.14610123]]\n"
     ]
    }
   ],
   "source": [
    "# 嵌入思想 -- 数据量可以使用样本\n",
    "sfm=SelectFromModel(estimator=DecisionTreeRegressor(),threshold=0.001)\n",
    "print(sfm.fit_transform(X,Y))\n",
    "# 保留A,B"
   ]
  }
 ],
 "metadata": {
  "kernelspec": {
   "display_name": "Python 3",
   "language": "python",
   "name": "python3"
  },
  "language_info": {
   "codemirror_mode": {
    "name": "ipython",
    "version": 3
   },
   "file_extension": ".py",
   "mimetype": "text/x-python",
   "name": "python",
   "nbconvert_exporter": "python",
   "pygments_lexer": "ipython3",
   "version": "3.7.3"
  }
 },
 "nbformat": 4,
 "nbformat_minor": 2
}
