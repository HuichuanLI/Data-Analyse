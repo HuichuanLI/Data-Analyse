{
 "cells": [
  {
   "cell_type": "markdown",
   "metadata": {},
   "source": [
    "### 建模方法的总结\n",
    "\n",
    "在贝叶斯建模的时候，思考数据是如何产生的能够加深我们对这种方法的理解。其实建模的本质，就是找到一个模型来描述这些数据的产生规律。现在让我们以短信收发为例，总结一下模型构建的步骤与思路。\n",
    "\n",
    "- 在拿到数据后，我们首先开始思考，“什么随机变量最能描述这些统计数据呢？”。我们发现 Poisson 随机变量是一个很好的选择。因为，它能够很好地代表统计数据。于是，我们决定就用 Poisson 分布来模拟真实收数据的分布。\n",
    "- 接下来，我们想，“如果短信接收数据服从 Poisson 分布的话，那么 Poisson 分布需要什么东西呢？”。OK，Poisson 分布需要一个参数 $\\lambda$。\n",
    "- 那么我们知道 $\\lambda$ 的具体值吗？不，实际上，不知道。我们猜测 $\\lambda$ 有两个取值，一个对应于早期行为，另一个对应于后期行为。我们并不知道这个参数是在什么时候发生的变化。因此，我们还需要假设一个行为变化的时间点 $\\tau$。\n",
    "- 那么，对于这两个 $\\lambda$，我们应该选取一个怎样的分布呢？然后，我们想起了可以给正实数赋概率的指数分布函数。但是，指数分布函数也存在它自己的参数：$\\alpha$\n",
    "- 那么，参数 $\\alpha$ 是什么样子呢？我们也不知道。此时我们可以继续为参数 $\\alpha$ 选择一个分布。但是，我们已经积累了很多未知变量了，现在还是停下来为妙。因此，我们觉得给 $\\alpha$ 赋予一个固定的值，那么 $\\alpha$ 选择多少为宜呢？\n",
    "\n",
    "  因为我们知道 $\\lambda$ 的范围在 10 到 30 之间，所以如果 $\\alpha $ 的取值太小是不适合的。类似的，取值太大，也不好。$\\alpha$ 的最佳取值应该可以反映我们对 $\\lambda$ 的判断，即此时，真实数据的均值应该和 $\\lambda$ 的均值相等。这些，我们已经在实验2中，解释过了。\n",
    "- 对于 $\\tau$ 什么时候发生，我们并没有什么概念。因此，我们假设了 $\\tau$ 是来自整个时段的一个离散平均分布。\n",
    "\n"
   ]
  },
  {
   "cell_type": "code",
   "execution_count": 3,
   "metadata": {
    "ExecuteTime": {
     "end_time": "2022-04-04T15:31:38.318233Z",
     "start_time": "2022-04-04T15:31:37.805863Z"
    }
   },
   "outputs": [
    {
     "name": "stdout",
     "output_type": "stream",
     "text": [
      "76\n"
     ]
    }
   ],
   "source": [
    "import numpy as np\n",
    "from IPython.core.pylabtools import figsize\n",
    "import matplotlib.pyplot as plt\n",
    "import scipy.stats as stats\n",
    "\n",
    "# 设总共80天，利用 Numpy 随机确定行为变化的日期\n",
    "tau = np.random.randint(0, 80)\n",
    "print(tau)"
   ]
  },
  {
   "cell_type": "code",
   "execution_count": 4,
   "metadata": {
    "ExecuteTime": {
     "end_time": "2022-04-04T15:32:05.788328Z",
     "start_time": "2022-04-04T15:32:05.784508Z"
    }
   },
   "outputs": [
    {
     "name": "stdout",
     "output_type": "stream",
     "text": [
      "24.028417465230916 41.261215114630545\n"
     ]
    }
   ],
   "source": [
    "# 这里的 alpha 为想模拟产生的数据的平均值的逆\n",
    "# 可以根据实际情况，自己定义\n",
    "alpha = 1./20.\n",
    "lambda_1, lambda_2 = np.random.exponential(scale=1/alpha, size=2)\n",
    "print(lambda_1, lambda_2)"
   ]
  },
  {
   "cell_type": "code",
   "execution_count": 5,
   "metadata": {
    "ExecuteTime": {
     "end_time": "2022-04-04T15:32:11.021837Z",
     "start_time": "2022-04-04T15:32:11.014063Z"
    }
   },
   "outputs": [
    {
     "data": {
      "text/plain": [
       "array([20, 25, 21, 19, 24, 22, 20, 22, 25, 32, 15, 27, 33, 26, 24, 25, 21,\n",
       "       23, 25, 27, 20, 21, 32, 31, 29, 31, 25, 26, 19, 22, 28, 17, 24, 34,\n",
       "       26, 19, 26, 40, 22, 18, 26, 21, 17, 25, 23, 24, 28, 20, 27, 21, 23,\n",
       "       31, 17, 26, 32, 23, 29, 17, 25, 22, 19, 24, 21, 30, 24, 22, 33, 29,\n",
       "       24, 22, 34, 18, 28, 15, 26, 23, 50, 41, 52, 42])"
      ]
     },
     "execution_count": 5,
     "metadata": {},
     "output_type": "execute_result"
    }
   ],
   "source": [
    "data = np.r_[stats.poisson.rvs(mu=lambda_1, size=tau),\n",
    "             stats.poisson.rvs(mu=lambda_2, size=80 - tau)]\n",
    "data"
   ]
  },
  {
   "cell_type": "code",
   "execution_count": 6,
   "metadata": {
    "ExecuteTime": {
     "end_time": "2022-04-04T15:32:16.663458Z",
     "start_time": "2022-04-04T15:32:16.291306Z"
    }
   },
   "outputs": [
    {
     "data": {
      "text/plain": [
       "<matplotlib.legend.Legend at 0x7fb030991710>"
      ]
     },
     "execution_count": 6,
     "metadata": {},
     "output_type": "execute_result"
    },
    {
     "data": {
      "image/png": "[encoded data removed]",
      "text/plain": [
       "<Figure size 432x288 with 1 Axes>"
      ]
     },
     "metadata": {
      "needs_background": "light"
     },
     "output_type": "display_data"
    }
   ],
   "source": [
    "plt.bar(np.arange(80), data, color=\"#348ABD\")\n",
    "plt.bar(tau-1, data[tau - 1], color=\"r\", label=\"user behaviour changed\")\n",
    "plt.xlabel(\"Time (days)\")\n",
    "plt.ylabel(\"count of text-msgs received\")\n",
    "plt.title(\"Artificial dataset\")\n",
    "plt.xlim(0, 80)\n",
    "plt.legend()"
   ]
  },
  {
   "cell_type": "markdown",
   "metadata": {},
   "source": [
    "从上图可以看出，我们模拟出来的数据并不像真实的观察数据，其实这是合理的。因为，模拟的数据和真实数据相同的可能性本来就很低。而我们使用 PyMC 来建模的目的，就是为了找到最优的参数，来最大化这种可能性。\n",
    "虽然产生模拟数据的能力只是我们模型的一个小作用。但是，后面我们会发现，这个作用在贝叶斯推断方法中是很重要的。例如，在下面的代码中，我们可以产生更多的人工模拟数据。"
   ]
  },
  {
   "cell_type": "code",
   "execution_count": 8,
   "metadata": {
    "ExecuteTime": {
     "end_time": "2022-04-04T15:33:19.316754Z",
     "start_time": "2022-04-04T15:33:18.492319Z"
    }
   },
   "outputs": [
    {
     "data": {
      "image/png": "[encoded data removed]",
      "text/plain": [
       "<Figure size 900x360 with 4 Axes>"
      ]
     },
     "metadata": {
      "needs_background": "light"
     },
     "output_type": "display_data"
    }
   ],
   "source": [
    "def plot_artificial_sms_dataset():\n",
    "    tau = stats.randint.rvs(0, 80)\n",
    "    alpha = 1./20.\n",
    "    lambda_1, lambda_2 = stats.expon.rvs(scale=1/alpha, size=2)\n",
    "    data = np.r_[stats.poisson.rvs(mu=lambda_1, size=tau), stats.poisson.rvs(\n",
    "        mu=lambda_2, size=80 - tau)]\n",
    "    plt.bar(np.arange(80), data, color=\"#348ABD\")\n",
    "    plt.bar(tau - 1, data[tau-1], color=\"r\", label=\"user behaviour changed\")\n",
    "    plt.xlim(0, 80)\n",
    "\n",
    "\n",
    "figsize(12.5, 5)\n",
    "plt.title(\"More example of artificial datasets\")\n",
    "for i in range(4):\n",
    "    plt.subplot(4, 1, i+1)\n",
    "    plot_artificial_sms_dataset()"
   ]
  },
  {
   "cell_type": "code",
   "execution_count": null,
   "metadata": {},
   "outputs": [],
   "source": []
  }
 ],
 "metadata": {
  "kernelspec": {
   "display_name": "Python 3",
   "language": "python",
   "name": "python3"
  },
  "language_info": {
   "codemirror_mode": {
    "name": "ipython",
    "version": 3
   },
   "file_extension": ".py",
   "mimetype": "text/x-python",
   "name": "python",
   "nbconvert_exporter": "python",
   "pygments_lexer": "ipython3",
   "version": "3.7.3"
  },
  "toc": {
   "base_numbering": 1,
   "nav_menu": {},
   "number_sections": true,
   "sideBar": true,
   "skip_h1_title": false,
   "title_cell": "Table of Contents",
   "title_sidebar": "Contents",
   "toc_cell": false,
   "toc_position": {},
   "toc_section_display": true,
   "toc_window_display": false
  }
 },
 "nbformat": 4,
 "nbformat_minor": 2
}
