{
 "cells": [
  {
   "cell_type": "code",
   "execution_count": 1,
   "metadata": {
    "ExecuteTime": {
     "end_time": "2022-04-04T15:14:34.985918Z",
     "start_time": "2022-04-04T15:14:29.647658Z"
    }
   },
   "outputs": [
    {
     "name": "stderr",
     "output_type": "stream",
     "text": [
      "/Users/hui/anaconda3/lib/python3.7/site-packages/dask/config.py:168: YAMLLoadWarning: calling yaml.load() without Loader=... is deprecated, as the default Loader is unsafe. Please read https://msg.pyyaml.org/load for full details.\n",
      "  data = yaml.load(f.read()) or {}\n",
      "/Users/hui/anaconda3/lib/python3.7/site-packages/distributed/config.py:20: YAMLLoadWarning: calling yaml.load() without Loader=... is deprecated, as the default Loader is unsafe. Please read https://msg.pyyaml.org/load for full details.\n",
      "  defaults = yaml.load(f)\n"
     ]
    }
   ],
   "source": [
    "import pymc3 as pm\n",
    "# 定义一个变量模型，后面的所有随机变量都会写入其中\n",
    "model = pm.Model()"
   ]
  },
  {
   "cell_type": "code",
   "execution_count": 3,
   "metadata": {
    "ExecuteTime": {
     "end_time": "2022-04-04T15:14:44.492856Z",
     "start_time": "2022-04-04T15:14:44.099048Z"
    }
   },
   "outputs": [
    {
     "data": {
      "text/plain": [
       "(0.0, 74.0)"
      ]
     },
     "execution_count": 3,
     "metadata": {},
     "output_type": "execute_result"
    },
    {
     "data": {
      "image/png": "[encoded data removed]",
      "text/plain": [
       "<Figure size 900x252 with 1 Axes>"
      ]
     },
     "metadata": {
      "needs_background": "light"
     },
     "output_type": "display_data"
    }
   ],
   "source": [
    "import scipy.stats as stats\n",
    "from IPython.core.pylabtools import figsize\n",
    "import numpy as np\n",
    "from matplotlib import pyplot as plt\n",
    "%matplotlib inline\n",
    "\n",
    "count_data = [13., 24.,  8., 24.,  7., 35., 14., 11., 15., 11., 22., 22., 11.,\n",
    "        57., 11., 19., 29.,  6., 19., 12., 22., 12., 18., 72., 32.,  9.,\n",
    "         7., 13., 19., 23., 27., 20.,  6., 17., 13., 10., 14.,  6., 16.,\n",
    "        15.,  7.,  2., 15., 15., 19., 70., 49.,  7., 53., 22., 21., 31.,\n",
    "        19., 11., 18., 20., 12., 35., 17., 23., 17.,  4.,  2., 31., 30.,\n",
    "        13., 27.,  0., 39., 37.,  5., 14., 13., 22.]\n",
    "n_count_data = len(count_data)\n",
    "n_count_data, count_data\n",
    "count_data = np.array(count_data)\n",
    "figsize(12.5, 3.5)\n",
    "plt.bar(np.arange(n_count_data), count_data, color=\"#348ABD\")\n",
    "plt.xlabel(\"Time (days)\")\n",
    "plt.ylabel(\"count of text-msgs received\")\n",
    "plt.title(\"Did the user's texting habits change over time?\")\n",
    "plt.xlim(0, n_count_data)"
   ]
  },
  {
   "cell_type": "code",
   "execution_count": 4,
   "metadata": {
    "ExecuteTime": {
     "end_time": "2022-04-04T15:14:54.389863Z",
     "start_time": "2022-04-04T15:14:51.604975Z"
    }
   },
   "outputs": [
    {
     "data": {
      "text/latex": [
       "$$\n",
       "                \\begin{array}{rcl}\n",
       "                \\text{lambda_1_log__} &\\sim & \\text{TransformedDistribution}\\\\\\text{lambda_2_log__} &\\sim & \\text{TransformedDistribution}\\\\\\text{lambda_3_log__} &\\sim & \\text{TransformedDistribution}\\\\\\text{tau_1} &\\sim & \\text{DiscreteUniform}\\\\\\text{tau_2} &\\sim & \\text{DiscreteUniform}\\\\\\text{lambda_1} &\\sim & \\text{Exponential}\\\\\\text{lambda_2} &\\sim & \\text{Exponential}\\\\\\text{lambda_3} &\\sim & \\text{Exponential}\n",
       "                \\end{array}\n",
       "                $$"
      ],
      "text/plain": [
       "<pymc3.model.Model at 0x7f941a5664e0>"
      ]
     },
     "execution_count": 4,
     "metadata": {},
     "output_type": "execute_result"
    }
   ],
   "source": [
    "import pymc3 as pm\n",
    "import theano.tensor as tt\n",
    "#定义一个变量模型，后面的所有随机变量都会写入其中\n",
    "model = pm.Model()\n",
    "with model:#利用with定义一个上下文管理器，以 model 作为上下文。\n",
    "           #在这个上下文中定义的变量都会被添加到这个模型中去\n",
    "        \n",
    "    # α 变量为样本中计算平均值的逆（即倒数的意思）\n",
    "    alpha = 1.0/count_data.mean()  \n",
    "    \n",
    "    #三个 λ的值都服从指数密度函数分布，函数参数为α\n",
    "    lambda_1 = pm.Exponential(\"lambda_1\", alpha)\n",
    "    lambda_2 = pm.Exponential(\"lambda_2\", alpha)\n",
    "    lambda_3 = pm.Exponential(\"lambda_3\", alpha)\n",
    "                              \n",
    "    #τ，即λ发生改变的时间，为 0 -70 中的任意一天(总共71天)\n",
    "    #因为τ是代表的天数，是离散的，这里通过 DiscreteUniform 设置它为离散型变量\n",
    "    #即产生随机数\n",
    "    tau_1 = pm.DiscreteUniform(\"tau_1\", lower=0, upper=n_count_data - 1)\n",
    "    tau_2 = pm.DiscreteUniform(\"tau_2\", lower=0, upper=n_count_data - 1)\n",
    "model"
   ]
  },
  {
   "cell_type": "code",
   "execution_count": 5,
   "metadata": {
    "ExecuteTime": {
     "end_time": "2022-04-04T15:15:23.062533Z",
     "start_time": "2022-04-04T15:15:19.258253Z"
    }
   },
   "outputs": [
    {
     "data": {
      "text/plain": [
       "theano.tensor.var.TensorVariable"
      ]
     },
     "execution_count": 5,
     "metadata": {},
     "output_type": "execute_result"
    }
   ],
   "source": [
    "with model:\n",
    "    idx = np.arange(n_count_data) # idf 表示天数\n",
    "    #lambda_ 表示每天的 λ的值\n",
    "    #使用where 条件语句去达到 3 分段函数赋值的效果\n",
    "    lambda_ =  pm.math.where (idx<tau_1,lambda_1, \n",
    "                              pm.math.where (idx<tau_2,lambda_2,lambda_3))\n",
    "type(lambda_)  "
   ]
  },
  {
   "cell_type": "code",
   "execution_count": 7,
   "metadata": {
    "ExecuteTime": {
     "end_time": "2022-04-04T15:16:41.988095Z",
     "start_time": "2022-04-04T15:16:40.612990Z"
    }
   },
   "outputs": [
    {
     "data": {
      "text/plain": [
       "pymc3.model.ObservedRV"
      ]
     },
     "execution_count": 7,
     "metadata": {},
     "output_type": "execute_result"
    }
   ],
   "source": [
    "with model:\n",
    "    # 将统计数据 与 参数为 lambda_ 的 Poisson 分布相结合。\n",
    "    observation = pm.Poisson(\"obs\", lambda_, observed=count_data)\n",
    "type(observation)"
   ]
  },
  {
   "cell_type": "code",
   "execution_count": 8,
   "metadata": {
    "ExecuteTime": {
     "end_time": "2022-04-04T15:17:29.187799Z",
     "start_time": "2022-04-04T15:16:52.087480Z"
    }
   },
   "outputs": [
    {
     "name": "stderr",
     "output_type": "stream",
     "text": [
      "/Users/hui/anaconda3/lib/python3.7/site-packages/deprecat/classic.py:215: FutureWarning: In v4.0, pm.sample will return an `arviz.InferenceData` object instead of a `MultiTrace` by default. You can pass return_inferencedata=True or return_inferencedata=False to be safe and silence this warning.\n",
      "  return wrapped_(*args_, **kwargs_)\n",
      "Multiprocess sampling (4 chains in 4 jobs)\n",
      "CompoundStep\n",
      ">Metropolis: [tau_2]\n",
      ">Metropolis: [tau_1]\n",
      ">Metropolis: [lambda_3]\n",
      ">Metropolis: [lambda_2]\n",
      ">Metropolis: [lambda_1]\n"
     ]
    },
    {
     "data": {
      "text/html": [
       "\n",
       "<style>\n",
       "    /* Turns off some styling */\n",
       "    progress {\n",
       "        /* gets rid of default border in Firefox and Opera. */\n",
       "        border: none;\n",
       "        /* Needs to be in here for Safari polyfill so background images work as expected. */\n",
       "        background-size: auto;\n",
       "    }\n",
       "    .progress-bar-interrupted, .progress-bar-interrupted::-webkit-progress-bar {\n",
       "        background: #F44336;\n",
       "    }\n",
       "</style>\n"
      ],
      "text/plain": [
       "<IPython.core.display.HTML object>"
      ]
     },
     "metadata": {},
     "output_type": "display_data"
    },
    {
     "data": {
      "text/html": [
       "\n",
       "    <div>\n",
       "      <progress value='6000' class='' max='6000' style='width:300px; height:20px; vertical-align: middle;'></progress>\n",
       "      100.00% [6000/6000 00:01<00:00 Sampling 4 chains, 0 divergences]\n",
       "    </div>\n",
       "    "
      ],
      "text/plain": [
       "<IPython.core.display.HTML object>"
      ]
     },
     "metadata": {},
     "output_type": "display_data"
    },
    {
     "name": "stderr",
     "output_type": "stream",
     "text": [
      "Sampling 4 chains for 500 tune and 1_000 draw iterations (2_000 + 4_000 draws total) took 22 seconds.\n",
      "The number of effective samples is smaller than 10% for some parameters.\n"
     ]
    }
   ],
   "source": [
    "with model:\n",
    "    step = pm.Metropolis()\n",
    "    trace = pm.sample(1000, tune=500, step=step)"
   ]
  },
  {
   "cell_type": "code",
   "execution_count": 9,
   "metadata": {
    "ExecuteTime": {
     "end_time": "2022-04-04T15:17:29.196845Z",
     "start_time": "2022-04-04T15:17:29.190195Z"
    }
   },
   "outputs": [
    {
     "name": "stdout",
     "output_type": "stream",
     "text": [
      "lambda1: [20.86084208 20.86084208 20.86084208 ... 18.32244782 18.32244782\n",
      " 18.32244782]\n",
      "lambda2: [11.03177151 11.03177151 11.03177151 ... 11.0102182  11.0102182\n",
      " 11.0102182 ]\n",
      "lambda3: [21.16632716 21.16632716 21.16632716 ... 21.13384639 21.13384639\n",
      " 21.13384639]\n",
      "tau_1: [32 32 32 ... 32 32 32]\n",
      "tau_2: [44 44 43 ... 43 43 44]\n"
     ]
    }
   ],
   "source": [
    "lambda_1_samples = trace['lambda_1']\n",
    "lambda_2_samples = trace['lambda_2']\n",
    "lambda_3_samples = trace['lambda_3']\n",
    "tau1_samples = trace['tau_1']\n",
    "tau2_samples = trace['tau_2']\n",
    "print(\"lambda1:\", lambda_1_samples)\n",
    "print(\"lambda2:\", lambda_2_samples)\n",
    "print(\"lambda3:\", lambda_3_samples)\n",
    "print(\"tau_1:\", tau1_samples)\n",
    "print(\"tau_2:\", tau2_samples)"
   ]
  },
  {
   "cell_type": "code",
   "execution_count": 11,
   "metadata": {
    "ExecuteTime": {
     "end_time": "2022-04-04T15:29:26.834556Z",
     "start_time": "2022-04-04T15:29:25.004092Z"
    }
   },
   "outputs": [
    {
     "data": {
      "image/png": "[encoded data removed]",
      "text/plain": [
       "<Figure size 900x720 with 5 Axes>"
      ]
     },
     "metadata": {
      "needs_background": "light"
     },
     "output_type": "display_data"
    }
   ],
   "source": [
    "\n",
    "figsize(12.5, 10)\n",
    "#下面的代码全为图像可视化代码\n",
    "#将图像分为三份，现在ax代表的是第一行第一张\n",
    "ax = plt.subplot(511)\n",
    "ax.set_autoscaley_on(False)\n",
    "#画出lambda_1 的后验分布\n",
    "plt.hist(lambda_1_samples, histtype='stepfilled', bins=30, alpha=0.85,\n",
    "         label=\"posterior of $\\lambda_1$\", color=\"#A60628\", density=True)\n",
    "plt.legend(loc=\"upper left\")\n",
    "plt.title(r\"\"\"Posterior distributions of the variables\n",
    "    $\\lambda_1,\\;\\lambda_2,\\;\\tau$\"\"\")\n",
    "plt.xlim([15, 30])\n",
    "plt.xlabel(\"$\\lambda_1$ value\")\n",
    "\n",
    "#画出lambda_2 的后验分布\n",
    "ax = plt.subplot(512)\n",
    "ax.set_autoscaley_on(False)\n",
    "plt.hist(lambda_2_samples, histtype='stepfilled', bins=30, alpha=0.85,\n",
    "         label=\"posterior of $\\lambda_2$\", color=\"#7A68A6\", density=True)\n",
    "plt.legend(loc=\"upper left\")\n",
    "plt.xlim([50, 65])\n",
    "plt.xlabel(\"$\\lambda_2$ value\")\n",
    "\n",
    "#画出lambda_3 的后验分布\n",
    "ax = plt.subplot(513)\n",
    "ax.set_autoscaley_on(False)\n",
    "plt.hist(lambda_3_samples, histtype='stepfilled', bins=30, alpha=0.85,\n",
    "         label=\"posterior of $\\lambda_3$ \", color=\"#7A68A6\", density=True)\n",
    "plt.legend(loc=\"upper left\")\n",
    "plt.xlim([15, 30])\n",
    "plt.xlabel(\"$\\lambda_2$ value\")\n",
    "\n",
    "#画出 tau_1 的后验分布\n",
    "plt.subplot(514)\n",
    "w = 1.0 / tau1_samples.shape[0] * np.ones_like(tau1_samples)\n",
    "plt.hist(tau1_samples, bins=n_count_data, alpha=1,\n",
    "         label=r\" posterior of $\\tau_1$ \",\n",
    "         color=\"#467821\", weights=w, rwidth=2.)\n",
    "plt.xticks(np.arange(n_count_data))\n",
    "\n",
    "plt.legend(loc=\"upper left\")\n",
    "plt.ylim([0, .75])\n",
    "plt.xlim([20, 35])\n",
    "plt.xlabel(r\"$\\tau$ (day)\")\n",
    "plt.ylabel(\"probability\");\n",
    "\n",
    "##画出 tau_2 的后验分布\n",
    "plt.subplot(515)\n",
    "w = 1.0 / tau2_samples.shape[0] * np.ones_like(tau2_samples)\n",
    "plt.hist(tau2_samples, bins=n_count_data, alpha=1,\n",
    "         label=r\"posterior of $\\tau_2$ \",\n",
    "         color=\"#467821\", weights=w, rwidth=2.)\n",
    "plt.xticks(np.arange(n_count_data))\n",
    "\n",
    "plt.legend(loc=\"upper left\")\n",
    "plt.ylim([0, .75])\n",
    "plt.xlim([35, len(count_data)-20])\n",
    "plt.xlabel(r\"$\\tau$ (day)\")\n",
    "plt.ylabel(\"probability\");"
   ]
  }
 ],
 "metadata": {
  "kernelspec": {
   "display_name": "Python 3",
   "language": "python",
   "name": "python3"
  },
  "language_info": {
   "codemirror_mode": {
    "name": "ipython",
    "version": 3
   },
   "file_extension": ".py",
   "mimetype": "text/x-python",
   "name": "python",
   "nbconvert_exporter": "python",
   "pygments_lexer": "ipython3",
   "version": "3.7.3"
  },
  "toc": {
   "base_numbering": 1,
   "nav_menu": {},
   "number_sections": true,
   "sideBar": true,
   "skip_h1_title": false,
   "title_cell": "Table of Contents",
   "title_sidebar": "Contents",
   "toc_cell": false,
   "toc_position": {},
   "toc_section_display": true,
   "toc_window_display": false
  }
 },
 "nbformat": 4,
 "nbformat_minor": 2
}
