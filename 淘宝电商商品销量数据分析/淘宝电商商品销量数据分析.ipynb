{
 "cells": [
  {
   "cell_type": "code",
   "execution_count": 1,
   "metadata": {
    "ExecuteTime": {
     "end_time": "2020-04-21T01:28:10.430052Z",
     "start_time": "2020-04-21T01:28:08.504284Z"
    },
    "pycharm": {
     "is_executing": true,
     "name": "#%%\n"
    }
   },
   "outputs": [],
   "source": [
    "import numpy as np\n",
    "import pandas as pd\n",
    "import matplotlib.pyplot as plt\n",
    "import matplotlib\n",
    "import seaborn as sns\n",
    "import pyecharts.charts as pyc\n",
    "import pyecharts.options as opts\n",
    "import warnings\n",
    "from datetime import datetime\n",
    "warnings.filterwarnings(\"ignore\")\n",
    "%matplotlib inline\n",
    "plt.rcParams['font.sans-serif']=['SimHei']   # 用来正常显示中文标签\n",
    "plt.rcParams['axes.unicode_minus']=False     # 用来正常显示负号\n",
    "matplotlib.rc(\"font\",family='Heiti TC')\n",
    "# 作图的字体默认设置\n",
    "fontdict = {'fontsize': 15,'horizontalalignment': 'center'}"
   ]
  },
  {
   "cell_type": "markdown",
   "metadata": {
    "pycharm": {
     "name": "#%% md\n"
    }
   },
   "source": [
    "## 数据准备"
   ]
  },
  {
   "cell_type": "markdown",
   "metadata": {
    "pycharm": {
     "name": "#%% md\n"
    }
   },
   "source": [
    "### 导入数据"
   ]
  },
  {
   "cell_type": "code",
   "execution_count": 2,
   "metadata": {
    "ExecuteTime": {
     "end_time": "2020-04-21T01:28:10.622211Z",
     "start_time": "2020-04-21T01:28:10.439045Z"
    },
    "pycharm": {
     "name": "#%%\n"
    }
   },
   "outputs": [],
   "source": [
    "baby = pd.read_csv(\"sam_tianchi_mum_baby.csv\")\n",
    "trade = pd.read_csv(\"sam_tianchi_mum_baby_trade_history.csv\")"
   ]
  },
  {
   "cell_type": "code",
   "execution_count": 3,
   "metadata": {
    "ExecuteTime": {
     "end_time": "2020-04-21T01:28:10.636224Z",
     "start_time": "2020-04-21T01:28:10.623220Z"
    },
    "cell_style": "split",
    "pycharm": {
     "name": "#%%\n"
    }
   },
   "outputs": [
    {
     "data": {
      "text/html": [
       "<div>\n",
       "<style scoped>\n",
       "    .dataframe tbody tr th:only-of-type {\n",
       "        vertical-align: middle;\n",
       "    }\n",
       "\n",
       "    .dataframe tbody tr th {\n",
       "        vertical-align: top;\n",
       "    }\n",
       "\n",
       "    .dataframe thead th {\n",
       "        text-align: right;\n",
       "    }\n",
       "</style>\n",
       "<table border=\"1\" class=\"dataframe\">\n",
       "  <thead>\n",
       "    <tr style=\"text-align: right;\">\n",
       "      <th></th>\n",
       "      <th>user_id</th>\n",
       "      <th>birthday</th>\n",
       "      <th>gender</th>\n",
       "    </tr>\n",
       "  </thead>\n",
       "  <tbody>\n",
       "    <tr>\n",
       "      <th>0</th>\n",
       "      <td>2757</td>\n",
       "      <td>20130311</td>\n",
       "      <td>1</td>\n",
       "    </tr>\n",
       "    <tr>\n",
       "      <th>1</th>\n",
       "      <td>415971</td>\n",
       "      <td>20121111</td>\n",
       "      <td>0</td>\n",
       "    </tr>\n",
       "    <tr>\n",
       "      <th>2</th>\n",
       "      <td>1372572</td>\n",
       "      <td>20120130</td>\n",
       "      <td>1</td>\n",
       "    </tr>\n",
       "    <tr>\n",
       "      <th>3</th>\n",
       "      <td>10339332</td>\n",
       "      <td>20110910</td>\n",
       "      <td>0</td>\n",
       "    </tr>\n",
       "    <tr>\n",
       "      <th>4</th>\n",
       "      <td>10642245</td>\n",
       "      <td>20130213</td>\n",
       "      <td>0</td>\n",
       "    </tr>\n",
       "  </tbody>\n",
       "</table>\n",
       "</div>"
      ],
      "text/plain": [
       "    user_id  birthday  gender\n",
       "0      2757  20130311       1\n",
       "1    415971  20121111       0\n",
       "2   1372572  20120130       1\n",
       "3  10339332  20110910       0\n",
       "4  10642245  20130213       0"
      ]
     },
     "execution_count": 3,
     "metadata": {},
     "output_type": "execute_result"
    }
   ],
   "source": [
    "baby.head()"
   ]
  },
  {
   "cell_type": "code",
   "execution_count": 4,
   "metadata": {
    "ExecuteTime": {
     "end_time": "2020-04-21T01:28:10.645232Z",
     "start_time": "2020-04-21T01:28:10.637225Z"
    },
    "cell_style": "split",
    "pycharm": {
     "name": "#%%\n"
    },
    "scrolled": false
   },
   "outputs": [
    {
     "data": {
      "text/html": [
       "<div>\n",
       "<style scoped>\n",
       "    .dataframe tbody tr th:only-of-type {\n",
       "        vertical-align: middle;\n",
       "    }\n",
       "\n",
       "    .dataframe tbody tr th {\n",
       "        vertical-align: top;\n",
       "    }\n",
       "\n",
       "    .dataframe thead th {\n",
       "        text-align: right;\n",
       "    }\n",
       "</style>\n",
       "<table border=\"1\" class=\"dataframe\">\n",
       "  <thead>\n",
       "    <tr style=\"text-align: right;\">\n",
       "      <th></th>\n",
       "      <th>user_id</th>\n",
       "      <th>auction_id</th>\n",
       "      <th>cat_id</th>\n",
       "      <th>cat1</th>\n",
       "      <th>property</th>\n",
       "      <th>buy_mount</th>\n",
       "      <th>day</th>\n",
       "    </tr>\n",
       "  </thead>\n",
       "  <tbody>\n",
       "    <tr>\n",
       "      <th>0</th>\n",
       "      <td>786295544</td>\n",
       "      <td>41098319944</td>\n",
       "      <td>50014866</td>\n",
       "      <td>50022520</td>\n",
       "      <td>21458:86755362;13023209:3593274;10984217:21985...</td>\n",
       "      <td>2</td>\n",
       "      <td>20140919</td>\n",
       "    </tr>\n",
       "    <tr>\n",
       "      <th>1</th>\n",
       "      <td>532110457</td>\n",
       "      <td>17916191097</td>\n",
       "      <td>50011993</td>\n",
       "      <td>28</td>\n",
       "      <td>21458:11399317;1628862:3251296;21475:137325;16...</td>\n",
       "      <td>1</td>\n",
       "      <td>20131011</td>\n",
       "    </tr>\n",
       "    <tr>\n",
       "      <th>2</th>\n",
       "      <td>249013725</td>\n",
       "      <td>21896936223</td>\n",
       "      <td>50012461</td>\n",
       "      <td>50014815</td>\n",
       "      <td>21458:30992;1628665:92012;1628665:3233938;1628...</td>\n",
       "      <td>1</td>\n",
       "      <td>20131011</td>\n",
       "    </tr>\n",
       "    <tr>\n",
       "      <th>3</th>\n",
       "      <td>917056007</td>\n",
       "      <td>12515996043</td>\n",
       "      <td>50018831</td>\n",
       "      <td>50014815</td>\n",
       "      <td>21458:15841995;21956:3494076;27000458:59723383...</td>\n",
       "      <td>2</td>\n",
       "      <td>20141023</td>\n",
       "    </tr>\n",
       "    <tr>\n",
       "      <th>4</th>\n",
       "      <td>444069173</td>\n",
       "      <td>20487688075</td>\n",
       "      <td>50013636</td>\n",
       "      <td>50008168</td>\n",
       "      <td>21458:30992;13658074:3323064;1628665:3233941;1...</td>\n",
       "      <td>1</td>\n",
       "      <td>20141103</td>\n",
       "    </tr>\n",
       "  </tbody>\n",
       "</table>\n",
       "</div>"
      ],
      "text/plain": [
       "     user_id   auction_id    cat_id      cat1  \\\n",
       "0  786295544  41098319944  50014866  50022520   \n",
       "1  532110457  17916191097  50011993        28   \n",
       "2  249013725  21896936223  50012461  50014815   \n",
       "3  917056007  12515996043  50018831  50014815   \n",
       "4  444069173  20487688075  50013636  50008168   \n",
       "\n",
       "                                            property  buy_mount       day  \n",
       "0  21458:86755362;13023209:3593274;10984217:21985...          2  20140919  \n",
       "1  21458:11399317;1628862:3251296;21475:137325;16...          1  20131011  \n",
       "2  21458:30992;1628665:92012;1628665:3233938;1628...          1  20131011  \n",
       "3  21458:15841995;21956:3494076;27000458:59723383...          2  20141023  \n",
       "4  21458:30992;13658074:3323064;1628665:3233941;1...          1  20141103  "
      ]
     },
     "execution_count": 4,
     "metadata": {},
     "output_type": "execute_result"
    }
   ],
   "source": [
    "trade.head()"
   ]
  },
  {
   "cell_type": "code",
   "execution_count": 5,
   "metadata": {
    "ExecuteTime": {
     "end_time": "2020-04-21T01:28:10.653239Z",
     "start_time": "2020-04-21T01:28:10.646233Z"
    },
    "cell_style": "split",
    "pycharm": {
     "name": "#%%\n"
    }
   },
   "outputs": [
    {
     "name": "stdout",
     "output_type": "stream",
     "text": [
      "<class 'pandas.core.frame.DataFrame'>\n",
      "RangeIndex: 953 entries, 0 to 952\n",
      "Data columns (total 3 columns):\n",
      " #   Column    Non-Null Count  Dtype\n",
      "---  ------    --------------  -----\n",
      " 0   user_id   953 non-null    int64\n",
      " 1   birthday  953 non-null    int64\n",
      " 2   gender    953 non-null    int64\n",
      "dtypes: int64(3)\n",
      "memory usage: 22.5 KB\n"
     ]
    }
   ],
   "source": [
    "baby.info()"
   ]
  },
  {
   "cell_type": "code",
   "execution_count": 6,
   "metadata": {
    "ExecuteTime": {
     "end_time": "2020-04-21T01:28:10.667260Z",
     "start_time": "2020-04-21T01:28:10.655241Z"
    },
    "cell_style": "split",
    "pycharm": {
     "name": "#%%\n"
    }
   },
   "outputs": [
    {
     "name": "stdout",
     "output_type": "stream",
     "text": [
      "<class 'pandas.core.frame.DataFrame'>\n",
      "RangeIndex: 29971 entries, 0 to 29970\n",
      "Data columns (total 7 columns):\n",
      " #   Column      Non-Null Count  Dtype \n",
      "---  ------      --------------  ----- \n",
      " 0   user_id     29971 non-null  int64 \n",
      " 1   auction_id  29971 non-null  int64 \n",
      " 2   cat_id      29971 non-null  int64 \n",
      " 3   cat1        29971 non-null  int64 \n",
      " 4   property    29827 non-null  object\n",
      " 5   buy_mount   29971 non-null  int64 \n",
      " 6   day         29971 non-null  int64 \n",
      "dtypes: int64(6), object(1)\n",
      "memory usage: 1.6+ MB\n"
     ]
    }
   ],
   "source": [
    "trade.info()"
   ]
  },
  {
   "cell_type": "code",
   "execution_count": 7,
   "metadata": {
    "ExecuteTime": {
     "end_time": "2020-04-21T01:28:10.683267Z",
     "start_time": "2020-04-21T01:28:10.669254Z"
    },
    "cell_style": "split",
    "pycharm": {
     "name": "#%%\n"
    },
    "scrolled": true
   },
   "outputs": [
    {
     "data": {
      "text/plain": [
       "count    29971.000000\n",
       "mean         2.544126\n",
       "std         63.986879\n",
       "min          1.000000\n",
       "25%          1.000000\n",
       "50%          1.000000\n",
       "75%          1.000000\n",
       "max      10000.000000\n",
       "Name: buy_mount, dtype: float64"
      ]
     },
     "execution_count": 7,
     "metadata": {},
     "output_type": "execute_result"
    }
   ],
   "source": [
    "trade.buy_mount.describe()"
   ]
  },
  {
   "cell_type": "code",
   "execution_count": 8,
   "metadata": {
    "ExecuteTime": {
     "end_time": "2020-04-21T01:28:10.853421Z",
     "start_time": "2020-04-21T01:28:10.684268Z"
    },
    "cell_style": "split",
    "pycharm": {
     "name": "#%%\n"
    },
    "scrolled": false
   },
   "outputs": [
    {
     "data": {
      "image/png": "[encoded data removed]",
      "text/plain": [
       "<Figure size 720x576 with 1 Axes>"
      ]
     },
     "metadata": {
      "needs_background": "light"
     },
     "output_type": "display_data"
    }
   ],
   "source": [
    "quantity = trade.buy_mount.value_counts().sort_index()\n",
    "plt.figure(figsize=(10, 8))\n",
    "sns.scatterplot(x=quantity.index, y=quantity.values, alpha=0.3)\n",
    "plt.title(\"单个订单购买量分布\", fontdict=fontdict)\n",
    "plt.ylabel(\"订单数\", fontdict=fontdict)\n",
    "plt.xlabel(\"购买量\", fontdict=fontdict)\n",
    "plt.show()"
   ]
  },
  {
   "cell_type": "markdown",
   "metadata": {
    "ExecuteTime": {
     "end_time": "2020-04-17T05:08:09.646045Z",
     "start_time": "2020-04-17T05:08:09.643043Z"
    },
    "pycharm": {
     "name": "#%% md\n"
    }
   },
   "source": [
    "### 数据清洗\n",
    "1. 保留buy_amount[1,1000]以内的订单。\n",
    "2. 查看有无缺失值异常值，并进行处理。\n",
    "3. trade中的auction_id未指定是什么属性，我们就将他默认改为item_id。\n",
    "4. 数据集中的property全是数字，需要有对应的字典才能知道对应什么属性，这边先删除。\n",
    "5. day改成日期形式。"
   ]
  },
  {
   "cell_type": "code",
   "execution_count": 9,
   "metadata": {
    "ExecuteTime": {
     "end_time": "2020-04-21T01:28:10.905469Z",
     "start_time": "2020-04-21T01:28:10.854422Z"
    },
    "pycharm": {
     "name": "#%%\n"
    }
   },
   "outputs": [],
   "source": [
    "# 保留buy_mount[0,1000]以内的记录\n",
    "trade = trade[(trade.buy_mount >= 1) & (trade.buy_mount <= 1000)]\n",
    "# 列重命名\n",
    "trade.rename({\"auction_id\": \"item_id\"}, axis=1, inplace=True)\n",
    "# 先将property暂且取出放在一边，后续再分析\n",
    "property = trade.property\n",
    "trade.drop('property', axis=1, inplace=True)\n",
    "# 日期类型转换\n",
    "baby['birthday'] = pd.to_datetime(baby.birthday.astype('str'))\n",
    "trade['day'] = pd.to_datetime(trade.day.astype('str'))"
   ]
  },
  {
   "cell_type": "code",
   "execution_count": 10,
   "metadata": {
    "ExecuteTime": {
     "end_time": "2020-04-21T01:28:10.917480Z",
     "start_time": "2020-04-21T01:28:10.906470Z"
    },
    "cell_style": "split",
    "pycharm": {
     "name": "#%%\n"
    },
    "scrolled": false
   },
   "outputs": [
    {
     "data": {
      "text/plain": [
       "count                   29967\n",
       "unique                    949\n",
       "top       2014-11-11 00:00:00\n",
       "freq                      454\n",
       "first     2012-07-02 00:00:00\n",
       "last      2015-02-05 00:00:00\n",
       "Name: day, dtype: object"
      ]
     },
     "execution_count": 10,
     "metadata": {},
     "output_type": "execute_result"
    }
   ],
   "source": [
    "# 本次统计数据的时间范围是2012/7/2-2015/2/5\n",
    "trade.day.describe()"
   ]
  },
  {
   "cell_type": "code",
   "execution_count": 11,
   "metadata": {
    "ExecuteTime": {
     "end_time": "2020-04-21T01:28:10.932493Z",
     "start_time": "2020-04-21T01:28:10.918481Z"
    },
    "cell_style": "split",
    "pycharm": {
     "name": "#%%\n"
    },
    "scrolled": true
   },
   "outputs": [
    {
     "name": "stdout",
     "output_type": "stream",
     "text": [
      "商品类目数： 6\n",
      "商品类别数： 662\n",
      "商品数： 28418\n",
      "总销量： 59202\n",
      "用户数 29940\n"
     ]
    }
   ],
   "source": [
    "count_cat1 = trade.cat1.nunique()\n",
    "count_cat = trade.cat_id.nunique()\n",
    "count_item = trade.item_id.nunique()\n",
    "sales_volume = trade.buy_mount.sum()\n",
    "count_user = trade.user_id.nunique()\n",
    "print(\"商品类目数：\", count_cat1)\n",
    "print(\"商品类别数：\", count_cat)\n",
    "print(\"商品数：\", count_item)\n",
    "print(\"总销量：\", sales_volume)\n",
    "print(\"用户数\", count_user)"
   ]
  },
  {
   "cell_type": "markdown",
   "metadata": {
    "pycharm": {
     "name": "#%% md\n"
    }
   },
   "source": [
    "## 数据分析"
   ]
  },
  {
   "cell_type": "markdown",
   "metadata": {
    "pycharm": {
     "name": "#%% md\n"
    }
   },
   "source": [
    "### 婴儿信息分析"
   ]
  },
  {
   "cell_type": "code",
   "execution_count": 12,
   "metadata": {
    "pycharm": {
     "name": "#%%\n"
    }
   },
   "outputs": [
    {
     "data": {
      "text/plain": [
       "0    489\n",
       "1    438\n",
       "2     26\n",
       "Name: gender, dtype: int64"
      ]
     },
     "execution_count": 12,
     "metadata": {},
     "output_type": "execute_result"
    }
   ],
   "source": [
    "baby['gender'].value_counts()"
   ]
  },
  {
   "cell_type": "code",
   "execution_count": 13,
   "metadata": {
    "pycharm": {
     "name": "#%%\n"
    }
   },
   "outputs": [
    {
     "data": {
      "text/plain": [
       "0    489\n",
       "1    438\n",
       "Name: gender, dtype: int64"
      ]
     },
     "execution_count": 13,
     "metadata": {},
     "output_type": "execute_result"
    }
   ],
   "source": [
    "baby = baby.loc[~(baby['gender'] == 2)]\n",
    "baby['gender'].value_counts()"
   ]
  },
  {
   "cell_type": "code",
   "execution_count": 14,
   "metadata": {
    "pycharm": {
     "name": "#%%\n"
    }
   },
   "outputs": [
    {
     "data": {
      "text/plain": [
       "1.1164383561643836"
      ]
     },
     "execution_count": 14,
     "metadata": {},
     "output_type": "execute_result"
    }
   ],
   "source": [
    "male_to_female_series = baby['gender'].value_counts()\n",
    "male_to_female_series[0] / male_to_female_series[1]  # 1.1164383561643836"
   ]
  },
  {
   "cell_type": "markdown",
   "metadata": {
    "pycharm": {
     "name": "#%% md\n"
    }
   },
   "source": [
    "### 汇总购买历史数据和婴儿信息数据"
   ]
  },
  {
   "cell_type": "code",
   "execution_count": 15,
   "metadata": {
    "pycharm": {
     "name": "#%%\n"
    }
   },
   "outputs": [],
   "source": [
    "trade = pd.merge(trade, baby, on='user_id', how='outer') "
   ]
  },
  {
   "cell_type": "code",
   "execution_count": 16,
   "metadata": {
    "pycharm": {
     "name": "#%%\n"
    }
   },
   "outputs": [
    {
     "data": {
      "text/html": [
       "<div>\n",
       "<style scoped>\n",
       "    .dataframe tbody tr th:only-of-type {\n",
       "        vertical-align: middle;\n",
       "    }\n",
       "\n",
       "    .dataframe tbody tr th {\n",
       "        vertical-align: top;\n",
       "    }\n",
       "\n",
       "    .dataframe thead th {\n",
       "        text-align: right;\n",
       "    }\n",
       "</style>\n",
       "<table border=\"1\" class=\"dataframe\">\n",
       "  <thead>\n",
       "    <tr style=\"text-align: right;\">\n",
       "      <th></th>\n",
       "      <th>user_id</th>\n",
       "      <th>item_id</th>\n",
       "      <th>cat_id</th>\n",
       "      <th>cat1</th>\n",
       "      <th>buy_mount</th>\n",
       "      <th>day</th>\n",
       "      <th>birthday</th>\n",
       "      <th>gender</th>\n",
       "    </tr>\n",
       "  </thead>\n",
       "  <tbody>\n",
       "    <tr>\n",
       "      <th>0</th>\n",
       "      <td>786295544</td>\n",
       "      <td>41098319944</td>\n",
       "      <td>50014866</td>\n",
       "      <td>50022520</td>\n",
       "      <td>2</td>\n",
       "      <td>2014-09-19</td>\n",
       "      <td>NaT</td>\n",
       "      <td>NaN</td>\n",
       "    </tr>\n",
       "    <tr>\n",
       "      <th>1</th>\n",
       "      <td>532110457</td>\n",
       "      <td>17916191097</td>\n",
       "      <td>50011993</td>\n",
       "      <td>28</td>\n",
       "      <td>1</td>\n",
       "      <td>2013-10-11</td>\n",
       "      <td>NaT</td>\n",
       "      <td>NaN</td>\n",
       "    </tr>\n",
       "    <tr>\n",
       "      <th>2</th>\n",
       "      <td>249013725</td>\n",
       "      <td>21896936223</td>\n",
       "      <td>50012461</td>\n",
       "      <td>50014815</td>\n",
       "      <td>1</td>\n",
       "      <td>2013-10-11</td>\n",
       "      <td>NaT</td>\n",
       "      <td>NaN</td>\n",
       "    </tr>\n",
       "    <tr>\n",
       "      <th>3</th>\n",
       "      <td>917056007</td>\n",
       "      <td>12515996043</td>\n",
       "      <td>50018831</td>\n",
       "      <td>50014815</td>\n",
       "      <td>2</td>\n",
       "      <td>2014-10-23</td>\n",
       "      <td>NaT</td>\n",
       "      <td>NaN</td>\n",
       "    </tr>\n",
       "    <tr>\n",
       "      <th>4</th>\n",
       "      <td>444069173</td>\n",
       "      <td>20487688075</td>\n",
       "      <td>50013636</td>\n",
       "      <td>50008168</td>\n",
       "      <td>1</td>\n",
       "      <td>2014-11-03</td>\n",
       "      <td>NaT</td>\n",
       "      <td>NaN</td>\n",
       "    </tr>\n",
       "  </tbody>\n",
       "</table>\n",
       "</div>"
      ],
      "text/plain": [
       "     user_id      item_id    cat_id      cat1  buy_mount        day birthday  \\\n",
       "0  786295544  41098319944  50014866  50022520          2 2014-09-19      NaT   \n",
       "1  532110457  17916191097  50011993        28          1 2013-10-11      NaT   \n",
       "2  249013725  21896936223  50012461  50014815          1 2013-10-11      NaT   \n",
       "3  917056007  12515996043  50018831  50014815          2 2014-10-23      NaT   \n",
       "4  444069173  20487688075  50013636  50008168          1 2014-11-03      NaT   \n",
       "\n",
       "   gender  \n",
       "0     NaN  \n",
       "1     NaN  \n",
       "2     NaN  \n",
       "3     NaN  \n",
       "4     NaN  "
      ]
     },
     "execution_count": 16,
     "metadata": {},
     "output_type": "execute_result"
    }
   ],
   "source": [
    "trade.head()"
   ]
  },
  {
   "cell_type": "code",
   "execution_count": 17,
   "metadata": {
    "pycharm": {
     "name": "#%%\n"
    }
   },
   "outputs": [
    {
     "name": "stdout",
     "output_type": "stream",
     "text": [
      "<class 'pandas.core.frame.DataFrame'>\n",
      "Int64Index: 29967 entries, 0 to 29966\n",
      "Data columns (total 8 columns):\n",
      " #   Column     Non-Null Count  Dtype         \n",
      "---  ------     --------------  -----         \n",
      " 0   user_id    29967 non-null  int64         \n",
      " 1   item_id    29967 non-null  int64         \n",
      " 2   cat_id     29967 non-null  int64         \n",
      " 3   cat1       29967 non-null  int64         \n",
      " 4   buy_mount  29967 non-null  int64         \n",
      " 5   day        29967 non-null  datetime64[ns]\n",
      " 6   birthday   930 non-null    datetime64[ns]\n",
      " 7   gender     930 non-null    float64       \n",
      "dtypes: datetime64[ns](2), float64(1), int64(5)\n",
      "memory usage: 2.1 MB\n"
     ]
    }
   ],
   "source": [
    "trade.info()"
   ]
  },
  {
   "cell_type": "markdown",
   "metadata": {
    "pycharm": {
     "name": "#%% md\n"
    }
   },
   "source": [
    "### 根据时间对比分析，了解整体市场情况"
   ]
  },
  {
   "cell_type": "code",
   "execution_count": 18,
   "metadata": {
    "ExecuteTime": {
     "end_time": "2020-04-21T01:28:10.967541Z",
     "start_time": "2020-04-21T01:28:10.933494Z"
    },
    "pycharm": {
     "name": "#%%\n"
    }
   },
   "outputs": [],
   "source": [
    "# 根据年月查看销量趋势\n",
    "# 根据年分组\n",
    "year_item = trade[['item_id', 'buy_mount', 'day']].groupby(by=trade.day.dt.year)[\n",
    "    'buy_mount'].sum()\n",
    "# 各年季度销量情况\n",
    "year_quarter_item = trade[['item_id', 'buy_mount', 'day']].groupby(by=[trade.day.dt.year, trade.day.dt.quarter])[\n",
    "    'buy_mount'].sum()\n",
    "# 根据年月分组\n",
    "year_month_item = trade[['item_id', 'buy_mount', 'day']].groupby(\n",
    "    by=[trade.day.dt.year, trade.day.dt.month])['buy_mount'].sum()"
   ]
  },
  {
   "cell_type": "code",
   "execution_count": 19,
   "metadata": {
    "ExecuteTime": {
     "end_time": "2020-04-21T01:28:11.070619Z",
     "start_time": "2020-04-21T01:28:10.968526Z"
    },
    "pycharm": {
     "name": "#%%\n"
    },
    "scrolled": true
   },
   "outputs": [
    {
     "data": {
      "image/png": "[encoded data removed]",
      "text/plain": [
       "<Figure size 720x360 with 1 Axes>"
      ]
     },
     "metadata": {
      "needs_background": "light"
     },
     "output_type": "display_data"
    }
   ],
   "source": [
    "# 各年销量情况\n",
    "plt.figure(figsize=(10, 5))\n",
    "sns.barplot(x=year_item.index, y=year_item.values)\n",
    "plt.title(\"年销量趋势\", fontdict=fontdict)\n",
    "plt.xlabel(\"年份\", fontdict=fontdict)\n",
    "plt.ylabel(\"销量\", fontdict=fontdict)\n",
    "plt.show()"
   ]
  },
  {
   "cell_type": "code",
   "execution_count": 20,
   "metadata": {
    "pycharm": {
     "name": "#%%\n"
    }
   },
   "outputs": [
    {
     "data": {
      "text/plain": [
       "59202"
      ]
     },
     "execution_count": 20,
     "metadata": {},
     "output_type": "execute_result"
    }
   ],
   "source": [
    "trade['buy_mount'].sum()"
   ]
  },
  {
   "cell_type": "markdown",
   "metadata": {
    "pycharm": {
     "name": "#%% md\n"
    }
   },
   "source": [
    "    2012/7-2015/2期间总销量是59202件，从上图我们可以看出淘宝和天猫平台母婴商品市场销量整体呈现上升趋势，但是波动较大。"
   ]
  },
  {
   "cell_type": "code",
   "execution_count": 21,
   "metadata": {
    "ExecuteTime": {
     "end_time": "2020-04-21T01:28:12.072529Z",
     "start_time": "2020-04-21T01:28:11.927390Z"
    },
    "pycharm": {
     "name": "#%%\n"
    }
   },
   "outputs": [
    {
     "data": {
      "image/png": "[encoded data removed]",
      "text/plain": [
       "<Figure size 720x360 with 1 Axes>"
      ]
     },
     "metadata": {
      "needs_background": "light"
     },
     "output_type": "display_data"
    }
   ],
   "source": [
    "# 各季度销售情况\n",
    "plt.figure(figsize=(10, 5))\n",
    "sns.barplot(x=year_quarter_item.index.values, y=year_quarter_item.values)\n",
    "plt.title(\"季度销量趋势\", fontdict=fontdict)\n",
    "plt.xlabel(\"(年,季度)\", fontdict=fontdict)\n",
    "plt.ylabel(\"销量\", fontdict=fontdict)\n",
    "plt.show()"
   ]
  },
  {
   "cell_type": "markdown",
   "metadata": {
    "ExecuteTime": {
     "end_time": "2020-04-20T11:26:19.287822Z",
     "start_time": "2020-04-20T11:26:19.284828Z"
    },
    "pycharm": {
     "name": "#%% md\n"
    }
   },
   "source": [
    "1. 2015年由于数据缺失，所以不能反应2015年第一季度的真实销量情况\n",
    "2. 每年第一季度的销售额都会呈现一定幅度的下跌。每年第四季度的销量都会呈现大幅度上升。"
   ]
  },
  {
   "cell_type": "markdown",
   "metadata": {
    "pycharm": {
     "name": "#%% md\n"
    }
   },
   "source": [
    "### 时间维度对比分析"
   ]
  },
  {
   "cell_type": "code",
   "execution_count": 22,
   "metadata": {
    "ExecuteTime": {
     "end_time": "2020-04-21T01:28:13.437746Z",
     "start_time": "2020-04-21T01:28:13.399704Z"
    },
    "pycharm": {
     "name": "#%%\n"
    },
    "scrolled": false
   },
   "outputs": [
    {
     "data": {
      "text/html": [
       "\n",
       "<script>\n",
       "    require.config({\n",
       "        paths: {\n",
       "            'echarts':'https://assets.pyecharts.org/assets/echarts.min'\n",
       "        }\n",
       "    });\n",
       "</script>\n",
       "\n",
       "        <div id=\"9b93a033cf51405eb3ebb82fb55d0562\" style=\"width:900px; height:500px;\"></div>\n",
       "\n",
       "<script>\n",
       "        require(['echarts'], function(echarts) {\n",
       "                var chart_9b93a033cf51405eb3ebb82fb55d0562 = echarts.init(\n",
       "                    document.getElementById('9b93a033cf51405eb3ebb82fb55d0562'), 'white', {renderer: 'canvas'});\n",
       "                var option_9b93a033cf51405eb3ebb82fb55d0562 = {\n",
       "    \"animation\": true,\n",
       "    \"animationThreshold\": 2000,\n",
       "    \"animationDuration\": 1000,\n",
       "    \"animationEasing\": \"cubicOut\",\n",
       "    \"animationDelay\": 0,\n",
       "    \"animationDurationUpdate\": 300,\n",
       "    \"animationEasingUpdate\": \"cubicOut\",\n",
       "    \"animationDelayUpdate\": 0,\n",
       "    \"color\": [\n",
       "        \"#c23531\",\n",
       "        \"#2f4554\",\n",
       "        \"#61a0a8\",\n",
       "        \"#d48265\",\n",
       "        \"#749f83\",\n",
       "        \"#ca8622\",\n",
       "        \"#bda29a\",\n",
       "        \"#6e7074\",\n",
       "        \"#546570\",\n",
       "        \"#c4ccd3\",\n",
       "        \"#f05b72\",\n",
       "        \"#ef5b9c\",\n",
       "        \"#f47920\",\n",
       "        \"#905a3d\",\n",
       "        \"#fab27b\",\n",
       "        \"#2a5caa\",\n",
       "        \"#444693\",\n",
       "        \"#726930\",\n",
       "        \"#b2d235\",\n",
       "        \"#6d8346\",\n",
       "        \"#ac6767\",\n",
       "        \"#1d953f\",\n",
       "        \"#6950a1\",\n",
       "        \"#918597\"\n",
       "    ],\n",
       "    \"series\": [\n",
       "        {\n",
       "            \"type\": \"bar\",\n",
       "            \"name\": \"\\u9500\\u91cf\",\n",
       "            \"legendHoverLink\": true,\n",
       "            \"data\": [\n",
       "                643,\n",
       "                781,\n",
       "                1353,\n",
       "                1072,\n",
       "                2083,\n",
       "                991,\n",
       "                1372,\n",
       "                1177,\n",
       "                1094,\n",
       "                1506,\n",
       "                1864,\n",
       "                1232,\n",
       "                2662,\n",
       "                1364,\n",
       "                1956,\n",
       "                1590,\n",
       "                2538,\n",
       "                1658,\n",
       "                1109,\n",
       "                1458,\n",
       "                2359,\n",
       "                2204,\n",
       "                3669,\n",
       "                1785,\n",
       "                2461,\n",
       "                3139,\n",
       "                2437,\n",
       "                3320,\n",
       "                3044,\n",
       "                2508,\n",
       "                2252,\n",
       "                521\n",
       "            ],\n",
       "            \"showBackground\": false,\n",
       "            \"barMinHeight\": 0,\n",
       "            \"barCategoryGap\": \"20%\",\n",
       "            \"barGap\": \"30%\",\n",
       "            \"large\": false,\n",
       "            \"largeThreshold\": 400,\n",
       "            \"seriesLayoutBy\": \"column\",\n",
       "            \"datasetIndex\": 0,\n",
       "            \"clip\": true,\n",
       "            \"zlevel\": 0,\n",
       "            \"z\": 2,\n",
       "            \"label\": {\n",
       "                \"show\": false,\n",
       "                \"position\": \"top\",\n",
       "                \"margin\": 8\n",
       "            },\n",
       "            \"markPoint\": {\n",
       "                \"label\": {\n",
       "                    \"show\": true,\n",
       "                    \"position\": \"inside\",\n",
       "                    \"color\": \"#fff\",\n",
       "                    \"margin\": 8\n",
       "                },\n",
       "                \"data\": [\n",
       "                    {\n",
       "                        \"coord\": [\n",
       "                            \"2012/11\",\n",
       "                            2083\n",
       "                        ],\n",
       "                        \"value\": 2083\n",
       "                    },\n",
       "                    {\n",
       "                        \"coord\": [\n",
       "                            \"2013/5\",\n",
       "                            1864\n",
       "                        ],\n",
       "                        \"value\": 1864\n",
       "                    },\n",
       "                    {\n",
       "                        \"coord\": [\n",
       "                            \"2013/11\",\n",
       "                            2538\n",
       "                        ],\n",
       "                        \"value\": 2538\n",
       "                    },\n",
       "                    {\n",
       "                        \"coord\": [\n",
       "                            \"2014/5\",\n",
       "                            3669\n",
       "                        ],\n",
       "                        \"value\": 3669\n",
       "                    },\n",
       "                    {\n",
       "                        \"coord\": [\n",
       "                            \"2014/11\",\n",
       "                            3044\n",
       "                        ],\n",
       "                        \"value\": 3044\n",
       "                    }\n",
       "                ]\n",
       "            },\n",
       "            \"rippleEffect\": {\n",
       "                \"show\": true,\n",
       "                \"brushType\": \"stroke\",\n",
       "                \"scale\": 2.5,\n",
       "                \"period\": 4\n",
       "            }\n",
       "        }\n",
       "    ],\n",
       "    \"legend\": [\n",
       "        {\n",
       "            \"data\": [\n",
       "                \"\\u9500\\u91cf\"\n",
       "            ],\n",
       "            \"selected\": {\n",
       "                \"\\u9500\\u91cf\": true\n",
       "            },\n",
       "            \"show\": true,\n",
       "            \"padding\": 5,\n",
       "            \"itemGap\": 10,\n",
       "            \"itemWidth\": 25,\n",
       "            \"itemHeight\": 14\n",
       "        }\n",
       "    ],\n",
       "    \"tooltip\": {\n",
       "        \"show\": true,\n",
       "        \"trigger\": \"item\",\n",
       "        \"triggerOn\": \"mousemove|click\",\n",
       "        \"axisPointer\": {\n",
       "            \"type\": \"line\"\n",
       "        },\n",
       "        \"showContent\": true,\n",
       "        \"alwaysShowContent\": false,\n",
       "        \"showDelay\": 0,\n",
       "        \"hideDelay\": 100,\n",
       "        \"textStyle\": {\n",
       "            \"fontSize\": 14\n",
       "        },\n",
       "        \"borderWidth\": 0,\n",
       "        \"padding\": 5\n",
       "    },\n",
       "    \"xAxis\": [\n",
       "        {\n",
       "            \"show\": true,\n",
       "            \"scale\": false,\n",
       "            \"nameLocation\": \"end\",\n",
       "            \"nameGap\": 15,\n",
       "            \"gridIndex\": 0,\n",
       "            \"inverse\": false,\n",
       "            \"offset\": 0,\n",
       "            \"splitNumber\": 5,\n",
       "            \"minInterval\": 0,\n",
       "            \"splitLine\": {\n",
       "                \"show\": false,\n",
       "                \"lineStyle\": {\n",
       "                    \"show\": true,\n",
       "                    \"width\": 1,\n",
       "                    \"opacity\": 1,\n",
       "                    \"curveness\": 0,\n",
       "                    \"type\": \"solid\"\n",
       "                }\n",
       "            },\n",
       "            \"data\": [\n",
       "                \"2012/7\",\n",
       "                \"2012/8\",\n",
       "                \"2012/9\",\n",
       "                \"2012/10\",\n",
       "                \"2012/11\",\n",
       "                \"2012/12\",\n",
       "                \"2013/1\",\n",
       "                \"2013/2\",\n",
       "                \"2013/3\",\n",
       "                \"2013/4\",\n",
       "                \"2013/5\",\n",
       "                \"2013/6\",\n",
       "                \"2013/7\",\n",
       "                \"2013/8\",\n",
       "                \"2013/9\",\n",
       "                \"2013/10\",\n",
       "                \"2013/11\",\n",
       "                \"2013/12\",\n",
       "                \"2014/1\",\n",
       "                \"2014/2\",\n",
       "                \"2014/3\",\n",
       "                \"2014/4\",\n",
       "                \"2014/5\",\n",
       "                \"2014/6\",\n",
       "                \"2014/7\",\n",
       "                \"2014/8\",\n",
       "                \"2014/9\",\n",
       "                \"2014/10\",\n",
       "                \"2014/11\",\n",
       "                \"2014/12\",\n",
       "                \"2015/1\",\n",
       "                \"2015/2\"\n",
       "            ]\n",
       "        }\n",
       "    ],\n",
       "    \"yAxis\": [\n",
       "        {\n",
       "            \"show\": true,\n",
       "            \"scale\": false,\n",
       "            \"nameLocation\": \"end\",\n",
       "            \"nameGap\": 15,\n",
       "            \"gridIndex\": 0,\n",
       "            \"inverse\": false,\n",
       "            \"offset\": 0,\n",
       "            \"splitNumber\": 5,\n",
       "            \"minInterval\": 0,\n",
       "            \"splitLine\": {\n",
       "                \"show\": false,\n",
       "                \"lineStyle\": {\n",
       "                    \"show\": true,\n",
       "                    \"width\": 1,\n",
       "                    \"opacity\": 1,\n",
       "                    \"curveness\": 0,\n",
       "                    \"type\": \"solid\"\n",
       "                }\n",
       "            }\n",
       "        }\n",
       "    ],\n",
       "    \"title\": [\n",
       "        {\n",
       "            \"text\": \"\\u6708\\u9500\\u91cf\\u8d8b\\u52bf\",\n",
       "            \"subtext\": \"2012/7-2015/2\\u7684\\u9500\\u91cf\\u8d8b\\u52bf\\u56fe\",\n",
       "            \"padding\": 5,\n",
       "            \"itemGap\": 10\n",
       "        }\n",
       "    ],\n",
       "    \"toolbox\": {\n",
       "        \"show\": true,\n",
       "        \"orient\": \"horizontal\",\n",
       "        \"itemSize\": 15,\n",
       "        \"itemGap\": 10,\n",
       "        \"left\": \"80%\",\n",
       "        \"feature\": {\n",
       "            \"saveAsImage\": {\n",
       "                \"type\": \"png\",\n",
       "                \"backgroundColor\": \"auto\",\n",
       "                \"connectedBackgroundColor\": \"#fff\",\n",
       "                \"show\": true,\n",
       "                \"title\": \"\\u4fdd\\u5b58\\u4e3a\\u56fe\\u7247\",\n",
       "                \"pixelRatio\": 1\n",
       "            },\n",
       "            \"restore\": {\n",
       "                \"show\": true,\n",
       "                \"title\": \"\\u8fd8\\u539f\"\n",
       "            },\n",
       "            \"dataView\": {\n",
       "                \"show\": true,\n",
       "                \"title\": \"\\u6570\\u636e\\u89c6\\u56fe\",\n",
       "                \"readOnly\": false,\n",
       "                \"lang\": [\n",
       "                    \"\\u6570\\u636e\\u89c6\\u56fe\",\n",
       "                    \"\\u5173\\u95ed\",\n",
       "                    \"\\u5237\\u65b0\"\n",
       "                ],\n",
       "                \"backgroundColor\": \"#fff\",\n",
       "                \"textareaColor\": \"#fff\",\n",
       "                \"textareaBorderColor\": \"#333\",\n",
       "                \"textColor\": \"#000\",\n",
       "                \"buttonColor\": \"#c23531\",\n",
       "                \"buttonTextColor\": \"#fff\"\n",
       "            },\n",
       "            \"dataZoom\": {\n",
       "                \"show\": true,\n",
       "                \"title\": {\n",
       "                    \"zoom\": \"\\u533a\\u57df\\u7f29\\u653e\",\n",
       "                    \"back\": \"\\u533a\\u57df\\u7f29\\u653e\\u8fd8\\u539f\"\n",
       "                },\n",
       "                \"icon\": {},\n",
       "                \"xAxisIndex\": false,\n",
       "                \"yAxisIndex\": false,\n",
       "                \"filterMode\": \"filter\"\n",
       "            },\n",
       "            \"magicType\": {\n",
       "                \"show\": true,\n",
       "                \"type\": [\n",
       "                    \"line\",\n",
       "                    \"bar\",\n",
       "                    \"stack\",\n",
       "                    \"tiled\"\n",
       "                ],\n",
       "                \"title\": {\n",
       "                    \"line\": \"\\u5207\\u6362\\u4e3a\\u6298\\u7ebf\\u56fe\",\n",
       "                    \"bar\": \"\\u5207\\u6362\\u4e3a\\u67f1\\u72b6\\u56fe\",\n",
       "                    \"stack\": \"\\u5207\\u6362\\u4e3a\\u5806\\u53e0\",\n",
       "                    \"tiled\": \"\\u5207\\u6362\\u4e3a\\u5e73\\u94fa\"\n",
       "                },\n",
       "                \"icon\": {}\n",
       "            },\n",
       "            \"brush\": {\n",
       "                \"icon\": {},\n",
       "                \"title\": {\n",
       "                    \"rect\": \"\\u77e9\\u5f62\\u9009\\u62e9\",\n",
       "                    \"polygon\": \"\\u5708\\u9009\",\n",
       "                    \"lineX\": \"\\u6a2a\\u5411\\u9009\\u62e9\",\n",
       "                    \"lineY\": \"\\u7eb5\\u5411\\u9009\\u62e9\",\n",
       "                    \"keep\": \"\\u4fdd\\u6301\\u9009\\u62e9\",\n",
       "                    \"clear\": \"\\u6e05\\u9664\\u9009\\u62e9\"\n",
       "                }\n",
       "            }\n",
       "        }\n",
       "    }\n",
       "};\n",
       "                chart_9b93a033cf51405eb3ebb82fb55d0562.setOption(option_9b93a033cf51405eb3ebb82fb55d0562);\n",
       "        });\n",
       "    </script>\n"
      ],
      "text/plain": [
       "<pyecharts.render.display.HTML at 0x7fe3e8ae71c0>"
      ]
     },
     "execution_count": 22,
     "metadata": {},
     "output_type": "execute_result"
    }
   ],
   "source": [
    "# 各月份销量情况\n",
    "x = [str(x[0])+\"/\"+str(x[1]) for x in year_month_item.index.values]\n",
    "y = [int(x) for x in year_month_item.values]\n",
    "pyc.Bar().add_xaxis(xaxis_data=x).add_yaxis(series_name=\"销量\", y_axis=y, \n",
    "                                            markpoint_opts=opts.MarkPointOpts(data=[\n",
    "                                                opts.MarkPointItem(coord=[x[4], y[4]], value=y[4]), \n",
    "                                                opts.MarkPointItem(coord=[x[10], y[10]], value=y[10]), \n",
    "                                                opts.MarkPointItem(coord=[x[16], y[16]], value=y[16]), \n",
    "                                                opts.MarkPointItem(coord=[x[22], y[22]], value=y[22]), \n",
    "                                                opts.MarkPointItem(coord=[x[28], y[28]], value=y[28])]\n",
    "                            )).set_series_opts(\n",
    "                                        label_opts=opts.LabelOpts(is_show=False)\n",
    "                            ).set_global_opts(title_opts=opts.TitleOpts(title=\"月销量趋势\", subtitle=\"2012/7-2015/2的销量趋势图\"), toolbox_opts=opts.ToolboxOpts()).render_notebook()"
   ]
  },
  {
   "cell_type": "markdown",
   "metadata": {
    "ExecuteTime": {
     "end_time": "2020-04-17T11:01:15.351854Z",
     "start_time": "2020-04-17T11:01:15.348852Z"
    },
    "pycharm": {
     "name": "#%% md\n"
    }
   },
   "source": [
    "1. 2013年和2014年的第一季度销量都有所下滑，主要聚集在1、2月。\n",
    "2. 每年的5月、11月都会出现不同程度的销量上涨。"
   ]
  },
  {
   "cell_type": "markdown",
   "metadata": {
    "pycharm": {
     "name": "#%% md\n"
    }
   },
   "source": [
    "### 针对性分析\n",
    "- 从上图可以看出，2012年至2014年的5月和11月都出现高峰凸起，整体呈现上涨趋势。"
   ]
  },
  {
   "cell_type": "code",
   "execution_count": 23,
   "metadata": {
    "pycharm": {
     "name": "#%%\n"
    }
   },
   "outputs": [],
   "source": [
    "trade['month'] = trade['day'].astype('datetime64[M]')\n",
    "trade['day_num'] = trade['day'].dt.day"
   ]
  },
  {
   "cell_type": "code",
   "execution_count": 24,
   "metadata": {
    "pycharm": {
     "name": "#%%\n"
    }
   },
   "outputs": [
    {
     "data": {
      "text/plain": [
       "Text(0.5, 1.0, 'Sales per day')"
      ]
     },
     "execution_count": 24,
     "metadata": {},
     "output_type": "execute_result"
    },
    {
     "data": {
      "image/png": "[encoded data removed]",
      "text/plain": [
       "<Figure size 432x288 with 1 Axes>"
      ]
     },
     "metadata": {
      "needs_background": "light"
     },
     "output_type": "display_data"
    }
   ],
   "source": [
    "# 5月\n",
    "# 2012年没有5月的数据\n",
    "sales13_05_series = trade.query('month == \"2013-05-01\"')\n",
    "sales14_05_series = trade.query('month == \"2014-05-01\"')\n",
    "\n",
    "sales13_05_sum_series = sales13_05_series.groupby(by='day_num')['buy_mount'].sum()\n",
    "sales14_05_sum_series = sales14_05_series.groupby(by='day_num')['buy_mount'].sum()\n",
    "\n",
    "plt.plot(sales13_05_sum_series, label='2013-05')\n",
    "plt.plot(sales14_05_sum_series, label='2014-05')\n",
    "plt.legend()\n",
    "plt.xlabel('Day')\n",
    "plt.ylabel('Sales')\n",
    "plt.title('Sales per day')"
   ]
  },
  {
   "cell_type": "code",
   "execution_count": 25,
   "metadata": {
    "pycharm": {
     "name": "#%%\n"
    }
   },
   "outputs": [
    {
     "data": {
      "text/plain": [
       "Text(0.5, 1.0, 'Sales per day')"
      ]
     },
     "execution_count": 25,
     "metadata": {},
     "output_type": "execute_result"
    },
    {
     "data": {
      "image/png": "[encoded data removed]",
      "text/plain": [
       "<Figure size 432x288 with 1 Axes>"
      ]
     },
     "metadata": {
      "needs_background": "light"
     },
     "output_type": "display_data"
    }
   ],
   "source": [
    "# 11月\n",
    "sales12_11_series = trade.query('month == \"2012-11-01\"')\n",
    "sales13_11_series = trade.query('month == \"2013-11-01\"')\n",
    "sales14_11_series = trade.query('month == \"2014-11-01\"')\n",
    "\n",
    "sales12_11_sum_series = sales12_11_series.groupby(by='day_num')['buy_mount'].sum()\n",
    "sales13_11_sum_series = sales13_11_series.groupby(by='day_num')['buy_mount'].sum()\n",
    "sales14_11_sum_series = sales14_11_series.groupby(by='day_num')['buy_mount'].sum()\n",
    "\n",
    "plt.plot(sales12_11_sum_series, label='2012-11')\n",
    "plt.plot(sales13_11_sum_series, label='2013-11')\n",
    "plt.plot(sales14_11_sum_series, label='2014-11')\n",
    "plt.legend()\n",
    "plt.xlabel('Day')\n",
    "plt.ylabel('Sales')\n",
    "plt.title('Sales per day')"
   ]
  },
  {
   "cell_type": "markdown",
   "metadata": {
    "pycharm": {
     "name": "#%% md\n"
    }
   },
   "source": [
    "### 复购率分析"
   ]
  },
  {
   "cell_type": "code",
   "execution_count": 26,
   "metadata": {
    "ExecuteTime": {
     "end_time": "2020-04-21T02:10:12.608881Z",
     "start_time": "2020-04-21T02:10:12.465743Z"
    },
    "pycharm": {
     "name": "#%%\n"
    }
   },
   "outputs": [
    {
     "data": {
      "image/png": "[encoded data removed]",
      "text/plain": [
       "<Figure size 720x432 with 1 Axes>"
      ]
     },
     "metadata": {
      "needs_background": "light"
     },
     "output_type": "display_data"
    }
   ],
   "source": [
    "# 产品大类复购率\n",
    "# 根据产品大类分组，然后循环大类进行索引求出每个大类的复购率\n",
    "t = trade.groupby(by=['cat1', 'user_id']).size()\n",
    "purchase_dict={}\n",
    "for i in trade.cat1.unique():\n",
    "    c = t.loc[i].value_counts()\n",
    "    purchase_dict[i]=((c.sum()-c[:1])/c[:1]).values[0].round(4)\n",
    "plt.figure(figsize=(10,6))\n",
    "sns.barplot(x=list(purchase_dict.keys()),y=list(purchase_dict.values()))\n",
    "plt.title(\"各大类复购率\",fontdict=fontdict)\n",
    "plt.show()"
   ]
  },
  {
   "cell_type": "markdown",
   "metadata": {
    "pycharm": {
     "name": "#%% md\n"
    }
   },
   "source": [
    "各产品大类的复购率也极低，均未到达1%，考虑到用户单次购买量大多是一件，且复购率低，说明用户对单一商品的回购欲望极低，商家应该从产品角度进行考虑，例如产品质量及购物体验等。"
   ]
  },
  {
   "cell_type": "markdown",
   "metadata": {
    "pycharm": {
     "name": "#%% md\n"
    }
   },
   "source": [
    "### 商品销售情况"
   ]
  },
  {
   "cell_type": "code",
   "execution_count": 27,
   "metadata": {
    "ExecuteTime": {
     "end_time": "2020-04-20T14:56:18.779528Z",
     "start_time": "2020-04-20T14:56:18.661412Z"
    },
    "cell_style": "split",
    "pycharm": {
     "name": "#%%\n"
    },
    "scrolled": true
   },
   "outputs": [
    {
     "data": {
      "image/png": "[encoded data removed]",
      "text/plain": [
       "<Figure size 432x288 with 1 Axes>"
      ]
     },
     "metadata": {
      "needs_background": "light"
     },
     "output_type": "display_data"
    }
   ],
   "source": [
    "# 商品大类销售情况\n",
    "cat = trade.groupby(\"cat1\")['buy_mount'].sum()\n",
    "sns.barplot(x=cat.index, y=cat.values)\n",
    "plt.title(\"商品大类销售情况\")\n",
    "plt.xlabel(\"商品大类\")\n",
    "plt.show()"
   ]
  },
  {
   "cell_type": "code",
   "execution_count": 28,
   "metadata": {
    "ExecuteTime": {
     "end_time": "2020-04-20T14:56:18.891630Z",
     "start_time": "2020-04-20T14:56:18.780520Z"
    },
    "cell_style": "split",
    "pycharm": {
     "name": "#%%\n"
    },
    "scrolled": true
   },
   "outputs": [
    {
     "data": {
      "image/png": "[encoded data removed]",
      "text/plain": [
       "<Figure size 432x288 with 1 Axes>"
      ]
     },
     "metadata": {
      "needs_background": "light"
     },
     "output_type": "display_data"
    }
   ],
   "source": [
    "# 人均大类购买情况\n",
    "cat_aver_user = (trade.groupby(\"cat1\")['buy_mount'].sum(\n",
    ") / trade.groupby(\"cat1\")['user_id'].count()).sort_values(ascending=False)\n",
    "sns.barplot(x=cat_aver_user.index, y=cat_aver_user.values)\n",
    "plt.title(\"商品大类人均购买情况\")\n",
    "plt.xlabel(\"商品大类\")\n",
    "plt.show()"
   ]
  },
  {
   "cell_type": "code",
   "execution_count": 29,
   "metadata": {
    "ExecuteTime": {
     "end_time": "2020-04-20T14:56:19.004724Z",
     "start_time": "2020-04-20T14:56:18.893624Z"
    },
    "pycharm": {
     "name": "#%%\n"
    }
   },
   "outputs": [
    {
     "data": {
      "image/png": "[encoded data removed]",
      "text/plain": [
       "<Figure size 432x288 with 1 Axes>"
      ]
     },
     "metadata": {
      "needs_background": "light"
     },
     "output_type": "display_data"
    }
   ],
   "source": [
    "# 大类下子类别数量\n",
    "cat_count = trade.groupby(\"cat1\")['cat_id'].count()\n",
    "sns.barplot(x=cat_count.index, y=cat_count.values)\n",
    "plt.title(\"商品大类的子类数量\")\n",
    "plt.xlabel(\"商品大类\")\n",
    "plt.show()"
   ]
  },
  {
   "cell_type": "markdown",
   "metadata": {
    "pycharm": {
     "name": "#%% md\n"
    }
   },
   "source": [
    "大类28和50008168销量最佳，大类38虽然销量低、子类数最少但是人均购买量却很高，说明用户在购买38大类下的产品时选择余地较少，但同时用户对此类产品的需求又很旺盛，可以适量的增加38大类下的子类产品，提高销售量"
   ]
  },
  {
   "cell_type": "markdown",
   "metadata": {
    "pycharm": {
     "name": "#%% md\n"
    }
   },
   "source": [
    "### 项目总结\n",
    "\n",
    "- 每年的五月和十一月都是销量高峰期，可见购物节的促销活动效果明显，应继续保持；\n",
    "- 由用户总数和销售总额的上升趋势都在反映店铺对市场的影响力正逐步扩大，仍有需要开拓的市场空间，但速度在放缓；\n",
    "- 因婴儿产品的特殊性，用户的生命周期有限，所以店铺的经营重心既要放在提高复购率上，同时也不能忽略新用户的获取上；"
   ]
  },
  {
   "cell_type": "code",
   "execution_count": null,
   "metadata": {
    "pycharm": {
     "name": "#%%\n"
    }
   },
   "outputs": [],
   "source": []
  }
 ],
 "metadata": {
  "hide_input": false,
  "kernelspec": {
   "display_name": "Python 3 (ipykernel)",
   "language": "python",
   "name": "python3"
  },
  "language_info": {
   "codemirror_mode": {
    "name": "ipython",
    "version": 3
   },
   "file_extension": ".py",
   "mimetype": "text/x-python",
   "name": "python",
   "nbconvert_exporter": "python",
   "pygments_lexer": "ipython3",
   "version": "3.9.12"
  },
  "latex_envs": {
   "LaTeX_envs_menu_present": true,
   "autoclose": false,
   "autocomplete": true,
   "bibliofile": "biblio.bib",
   "cite_by": "apalike",
   "current_citInitial": 1,
   "eqLabelWithNumbers": true,
   "eqNumInitial": 1,
   "hotkeys": {
    "equation": "Ctrl-E",
    "itemize": "Ctrl-I"
   },
   "labels_anchors": false,
   "latex_user_defs": false,
   "report_style_numbering": false,
   "user_envs_cfg": false
  },
  "toc": {
   "base_numbering": 1,
   "nav_menu": {},
   "number_sections": false,
   "sideBar": true,
   "skip_h1_title": false,
   "title_cell": "Table of Contents",
   "title_sidebar": "Contents",
   "toc_cell": false,
   "toc_position": {
    "height": "calc(100% - 180px)",
    "left": "10px",
    "top": "150px",
    "width": "383.993px"
   },
   "toc_section_display": true,
   "toc_window_display": true
  },
  "varInspector": {
   "cols": {
    "lenName": 16,
    "lenType": 16,
    "lenVar": 40
   },
   "kernels_config": {
    "python": {
     "delete_cmd_postfix": "",
     "delete_cmd_prefix": "del ",
     "library": "var_list.py",
     "varRefreshCmd": "print(var_dic_list())"
    },
    "r": {
     "delete_cmd_postfix": ") ",
     "delete_cmd_prefix": "rm(",
     "library": "var_list.r",
     "varRefreshCmd": "cat(var_dic_list()) "
    }
   },
   "position": {
    "height": "235px",
    "left": "1744px",
    "right": "20px",
    "top": "131px",
    "width": "350px"
   },
   "types_to_exclude": [
    "module",
    "function",
    "builtin_function_or_method",
    "instance",
    "_Feature"
   ],
   "window_display": true
  }
 },
 "nbformat": 4,
 "nbformat_minor": 4
}