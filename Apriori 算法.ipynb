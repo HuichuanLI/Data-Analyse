{
 "cells": [
  {
   "cell_type": "code",
   "execution_count": 1,
   "metadata": {},
   "outputs": [],
   "source": [
    "from itertools import combinations\n"
   ]
  },
  {
   "cell_type": "code",
   "execution_count": 2,
   "metadata": {},
   "outputs": [],
   "source": [
    "# 返回项集\n",
    "def comb(lst):\n",
    "    ret=[]\n",
    "    for i in range(1,len(lst)+1):\n",
    "        ret+=list(combinations(lst,i))\n",
    "    return ret"
   ]
  },
  {
   "cell_type": "code",
   "execution_count": 3,
   "metadata": {},
   "outputs": [],
   "source": [
    "class AprLayer(object):\n",
    "    d=dict()\n",
    "    def __init__(self):\n",
    "        self.d=dict()"
   ]
  },
  {
   "cell_type": "code",
   "execution_count": 4,
   "metadata": {},
   "outputs": [],
   "source": [
    "class AprNode(object):\n",
    "    def __init__(self,node):\n",
    "        self.s=set(node)\n",
    "        self.size=len(self.s)\n",
    "        self.lnk_nodes=dict()\n",
    "        self.num=0\n",
    "    def __hash__(self):\n",
    "        return hash(\"__\".join(sorted([str(itm) for itm in list(self.s)])))\n",
    "    def __eq__(self, other):\n",
    "        if \"__\".join(sorted([str(itm) for itm in list(self.s)]))==\"__\".join(sorted([str(itm) for itm in list(other.s)])):\n",
    "            return True\n",
    "        return False\n",
    "    def isSubnode(self,node):\n",
    "        return self.s.issubset(node.s)\n",
    "    def incNum(self,num=1):\n",
    "        self.num+=num\n",
    "    def addLnk(self,node):\n",
    "        self.lnk_nodes[node]=node.s\n"
   ]
  },
  {
   "cell_type": "code",
   "execution_count": 11,
   "metadata": {},
   "outputs": [],
   "source": [
    "class AprBlk():\n",
    "    def __init__(self,data):\n",
    "        cnt=0\n",
    "        self.apr_layers = dict()\n",
    "        self.data_num=len(data)\n",
    "        for datum in data:\n",
    "            cnt+=1\n",
    "            datum=comb(datum)\n",
    "            nodes=[AprNode(da) for da in datum]\n",
    "            for node in nodes:\n",
    "                if not node.size in self.apr_layers:\n",
    "                    self.apr_layers[node.size]=AprLayer()\n",
    "                if not node in self.apr_layers[node.size].d:\n",
    "                    self.apr_layers[node.size].d[node]=node\n",
    "                self.apr_layers[node.size].d[node].incNum()\n",
    "            for node in nodes:\n",
    "                if node.size==1:\n",
    "                    continue\n",
    "                for sn in node.s:\n",
    "                    sub_n=AprNode(node.s-set([sn]))\n",
    "                    self.apr_layers[node.size-1].d[sub_n].addLnk(node)\n",
    "    def getFreqItems(self,thd=1,hd=1):\n",
    "        freq_items=[]\n",
    "        for layer in self.apr_layers:\n",
    "            for node in self.apr_layers[layer].d:\n",
    "                if self.apr_layers[layer].d[node].num<thd:\n",
    "                    continue\n",
    "                freq_items.append((self.apr_layers[layer].d[node].s,self.apr_layers[layer].d[node].num))\n",
    "        freq_items.sort(key=lambda x:x[1],reverse = True)\n",
    "        return freq_items[:hd]\n",
    "    def getConf(self,low=True, h_thd=10, l_thd=1, hd=1):\n",
    "        confidence = []\n",
    "        for layer in self.apr_layers:\n",
    "            for node in self.apr_layers[layer].d:\n",
    "                if self.apr_layers[layer].d[node].num < h_thd:\n",
    "                    continue\n",
    "                for lnk_node in node.lnk_nodes:\n",
    "                    if lnk_node.num < l_thd:\n",
    "                        continue\n",
    "                    conf = float(lnk_node.num) / float(node.num)\n",
    "                    confidence.append([node.s, node.num, lnk_node.s, lnk_node.num, conf])\n",
    "\n",
    "        confidence.sort(key=lambda x: x[4])\n",
    "        if low:\n",
    "            return confidence[:hd]\n",
    "        else:\n",
    "            return confidence[-hd::-1]"
   ]
  },
  {
   "cell_type": "code",
   "execution_count": 12,
   "metadata": {},
   "outputs": [],
   "source": [
    "class AssctAnaClass():\n",
    "    def fit(self,data):\n",
    "        self.apr_blk=AprBlk(data)\n",
    "        return self\n",
    "    def get_freq(self,thd=1,hd=1):\n",
    "        return self.apr_blk.getFreqItems(thd=thd,hd=hd)\n",
    "    def get_conf_high(self,thd,h_thd=10):\n",
    "        return self.apr_blk.getConf(low=False, h_thd=h_thd, l_thd=thd)\n",
    "    def get_conf_low(self,thd,hd,l_thd=1):\n",
    "        return self.apr_blk.getConf(h_thd=thd,l_thd=l_thd,hd=hd)\n"
   ]
  },
  {
   "cell_type": "code",
   "execution_count": 13,
   "metadata": {},
   "outputs": [],
   "source": [
    "def main():\n",
    "    data=[\n",
    "        [\"牛奶\",\"啤酒\",\"尿布\"],\n",
    "        [\"牛奶\",\"啤酒\",\"咖啡\",\"尿布\"],\n",
    "        [\"香肠\",\"牛奶\",\"饼干\"],\n",
    "        [\"尿布\",\"果汁\",\"啤酒\"],\n",
    "        [\"钉子\",\"啤酒\"],\n",
    "        [\"尿布\",\"毛巾\",\"香肠\"],\n",
    "        [\"啤酒\",\"毛巾\",\"尿布\",\"饼干\"]\n",
    "    ]\n",
    "    print(\"Freq\",AssctAnaClass().fit(data).get_freq(thd=3,hd=10))\n",
    "    print(\"Conf\",AssctAnaClass().fit(data).get_conf_high(thd=3,h_thd=3))"
   ]
  },
  {
   "cell_type": "code",
   "execution_count": 14,
   "metadata": {},
   "outputs": [
    {
     "name": "stdout",
     "output_type": "stream",
     "text": [
      "Freq [({'啤酒'}, 5), ({'尿布'}, 5), ({'啤酒', '尿布'}, 4), ({'牛奶'}, 3)]\n",
      "Conf [[{'尿布'}, 5, {'啤酒', '尿布'}, 4, 0.8], [{'啤酒'}, 5, {'啤酒', '尿布'}, 4, 0.8]]\n"
     ]
    }
   ],
   "source": [
    "main()"
   ]
  },
  {
   "cell_type": "code",
   "execution_count": null,
   "metadata": {},
   "outputs": [],
   "source": []
  }
 ],
 "metadata": {
  "kernelspec": {
   "display_name": "Python 3",
   "language": "python",
   "name": "python3"
  },
  "language_info": {
   "codemirror_mode": {
    "name": "ipython",
    "version": 3
   },
   "file_extension": ".py",
   "mimetype": "text/x-python",
   "name": "python",
   "nbconvert_exporter": "python",
   "pygments_lexer": "ipython3",
   "version": "3.7.3"
  }
 },
 "nbformat": 4,
 "nbformat_minor": 2
}
