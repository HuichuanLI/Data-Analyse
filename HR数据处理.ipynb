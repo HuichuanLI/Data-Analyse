{
 "cells": [
  {
   "cell_type": "code",
   "execution_count": 1,
   "metadata": {},
   "outputs": [],
   "source": [
    "import pandas as pd\n",
    "import numpy as np\n",
    "from sklearn.preprocessing import MinMaxScaler,StandardScaler\n",
    "from sklearn.preprocessing import LabelEncoder,OneHotEncoder\n",
    "from sklearn.preprocessing import Normalizer\n",
    "from sklearn.discriminant_analysis import LinearDiscriminantAnalysis\n",
    "from sklearn.decomposition import PCA\n",
    "import os"
   ]
  },
  {
   "cell_type": "markdown",
   "metadata": {},
   "source": [
    "## 数据处理"
   ]
  },
  {
   "cell_type": "code",
   "execution_count": 48,
   "metadata": {
    "scrolled": false
   },
   "outputs": [],
   "source": [
    "#sl:satisfaction_level---False:MinMaxScaler;True:StandardScaler\n",
    "#le:last_evaluation---False:MinMaxScaler;True:StandardScaler\n",
    "#npr:number_project---False:MinMaxScaler;True:StandardScaler\n",
    "#amh:average_monthly_hours--False:MinMaxScaler;True:StandardScaler\n",
    "#tsc:time_spend_company--False:MinMaxScaler;True:StandardScaler\n",
    "#wa:Work_accident--False:MinMaxScaler;True:StandardScaler\n",
    "#pl5:promotion_last_5years--False:MinMaxScaler;True:StandardScaler\n",
    "#dp:department--False:LabelEncoding;True:OneHotEncoding\n",
    "#slr:salary--False:LabelEncoding;True:OneHotEncoding\n",
    "def map_salary(s):\n",
    "    d=dict([(\"low\",0),(\"medium\",1),(\"high\",2)])\n",
    "    return d.get(s,0)\n",
    "def hr_preprocessing(sl=False,le=False,npr=False,amh=False,tsc=False,wa=False,pl5=False,dp=False,slr=False,lower_d=False,ld_n=1):\n",
    "    df=pd.read_csv(\"./data/HR.csv\")\n",
    "    \n",
    "    #1、清洗数据\n",
    "    df=df.dropna(subset=[\"satisfaction_level\",\"last_evaluation\"])\n",
    "    df=df[df[\"satisfaction_level\"]<=1][df[\"salary\"]!=\"nme\"]\n",
    "    #2、得到标注\n",
    "    label = df[\"left\"]\n",
    "    df = df.drop(\"left\", axis=1)\n",
    "    #3、特征选择\n",
    "    #4、特征处理\n",
    "    scaler_lst=[sl,le,npr,amh,tsc,wa,pl5]\n",
    "    column_lst=[\"satisfaction_level\",\"last_evaluation\",\"number_project\",\\\n",
    "                \"average_monthly_hours\",\"time_spend_company\",\"Work_accident\",\\\n",
    "                \"promotion_last_5years\"]\n",
    "    for i in range(len(scaler_lst)):\n",
    "        if not scaler_lst[i]:\n",
    "            df[column_lst[i]]=\\\n",
    "                MinMaxScaler().fit_transform(df[column_lst[i]].values.reshape(-1,1)).reshape(1,-1)[0]\n",
    "        else:\n",
    "            df[column_lst[i]]=\\\n",
    "                StandardScaler().fit_transform(df[column_lst[i]].values.reshape(-1,1)).reshape(1,-1)[0]\n",
    "    scaler_lst=[slr,dp]\n",
    "    column_lst=[\"salary\",\"department\"]\n",
    "    for i in range(len(scaler_lst)):\n",
    "        if not scaler_lst[i]:\n",
    "            if column_lst[i]==\"salary\":\n",
    "                # low 为0,medium为1，high为2\n",
    "                df[column_lst[i]]=[map_salary(s) for s in df[\"salary\"].values]\n",
    "            else:\n",
    "                df[column_lst[i]]=LabelEncoder().fit_transform(df[column_lst[i]])\n",
    "            df[column_lst[i]]=MinMaxScaler().fit_transform(df[column_lst[i]].values.reshape(-1,1)).reshape(1,-1)[0]\n",
    "        else:\n",
    "            df=pd.get_dummies(df,columns=[column_lst[i]])\n",
    "    if lower_d:\n",
    "        return PCA(n_components=ld_n).fit_transform(df.values),label  \n",
    "    return df,label            \n",
    "                \n",
    "\n",
    "\n",
    "\n",
    "features,label = hr_preprocessing(sl=True,le=True,npr=True,amh=True,tsc=True,wa=True,pl5=True,dp=True,slr=True)"
   ]
  },
  {
   "cell_type": "markdown",
   "metadata": {},
   "source": [
    "## 建模函数"
   ]
  },
  {
   "cell_type": "code",
   "execution_count": 49,
   "metadata": {},
   "outputs": [
    {
     "name": "stdout",
     "output_type": "stream",
     "text": [
      "[[ 1.23547405 -1.3209701   0.97111292 ...  0.          0.\n",
      "   1.        ]\n",
      " [ 0.47126283  1.42494396  0.97111292 ...  0.          1.\n",
      "   0.        ]\n",
      " [-0.25272675 -0.67830936 -0.65153764 ...  0.          0.\n",
      "   1.        ]\n",
      " ...\n",
      " [-0.73538647  0.25646989  1.7824382  ...  0.          0.\n",
      "   0.        ]\n",
      " [ 0.02882475  1.60021507  0.15978764 ...  0.          0.\n",
      "   0.        ]\n",
      " [ 1.35613898 -0.03564863  0.15978764 ...  1.          0.\n",
      "   0.        ]]\n",
      "8999 8999 None\n"
     ]
    }
   ],
   "source": [
    "from sklearn.model_selection import train_test_split\n",
    "\n",
    "def hr_modeling_nn(features,label):\n",
    "    f_v = features.values\n",
    "    f_names = features.columns.values\n",
    "    l_v = label.values\n",
    "    X_tt, X_validation, Y_tt, Y_validation = train_test_split(f_v, l_v, test_size=0.2)\n",
    "    X_train, X_test, Y_train, Y_test = train_test_split(X_tt, Y_tt, test_size=0.25)\n",
    "    print(len(X_train),len(X_train),print(X_validation))\n",
    "    \n",
    "    return X_train, X_test, Y_train, Y_test,X_validation, Y_validation\n",
    "    \n",
    "X_train, X_test, Y_train, Y_test,X_validation, Y_validation = hr_modeling_nn(features,label)"
   ]
  },
  {
   "cell_type": "markdown",
   "metadata": {},
   "source": [
    "## 机器学习"
   ]
  },
  {
   "cell_type": "code",
   "execution_count": 51,
   "metadata": {},
   "outputs": [
    {
     "name": "stdout",
     "output_type": "stream",
     "text": [
      "0\n",
      "KNN -ACC: 0.9737748638737638\n",
      "KNN -REC: 0.9591930307198533\n",
      "KNN -F1: 0.946606334841629\n",
      "1\n",
      "KNN -ACC: 0.9433333333333334\n",
      "KNN -REC: 0.9049586776859504\n",
      "KNN -F1: 0.8854447439353099\n",
      "2\n",
      "KNN -ACC: 0.9433333333333334\n",
      "KNN -REC: 0.9126506024096386\n",
      "KNN -F1: 0.8769898697539797\n",
      "0\n",
      "GaussianNB -ACC: 0.6506278475386154\n",
      "GaussianNB -REC: 0.8541953232462174\n",
      "GaussianNB -F1: 0.5423580786026202\n",
      "1\n",
      "GaussianNB -ACC: 0.6533333333333333\n",
      "GaussianNB -REC: 0.8347107438016529\n",
      "GaussianNB -F1: 0.5381882770870338\n",
      "2\n",
      "GaussianNB -ACC: 0.6496666666666666\n",
      "GaussianNB -REC: 0.8192771084337349\n",
      "GaussianNB -F1: 0.5086489013557738\n",
      "0\n",
      "BernoulliNB -ACC: 0.7609734414934993\n",
      "BernoulliNB -REC: 0.2347546996790463\n",
      "BernoulliNB -F1: 0.3225196850393701\n",
      "1\n",
      "BernoulliNB -ACC: 0.754\n",
      "BernoulliNB -REC: 0.2066115702479339\n",
      "BernoulliNB -F1: 0.2890173410404624\n",
      "2\n",
      "BernoulliNB -ACC: 0.772\n",
      "BernoulliNB -REC: 0.21536144578313254\n",
      "BernoulliNB -F1: 0.2948453608247423\n"
     ]
    }
   ],
   "source": [
    "from sklearn.metrics import accuracy_score, recall_score, f1_score\n",
    "from sklearn.naive_bayes import GaussianNB,BernoulliNB\n",
    "from sklearn.neighbors import NearestNeighbors,KNeighborsClassifier\n",
    "models = []\n",
    "models.append((\"KNN\",KNeighborsClassifier(n_neighbors=3)))\n",
    "models.append((\"GaussianNB\",GaussianNB()))\n",
    "models.append((\"BernoulliNB\",BernoulliNB()))\n",
    "for clf_name,clf in models:\n",
    "    clf.fit(X_train,Y_train)\n",
    "    xy_lst=[(X_train,Y_train),(X_validation,Y_validation),(X_test,Y_test)]\n",
    "    for i in range(len(xy_lst)):\n",
    "        X_part=xy_lst[i][0]\n",
    "        Y_part=xy_lst[i][1]\n",
    "        Y_pred=clf.predict(X_part)\n",
    "        print(i)\n",
    "        print(clf_name,\"-ACC:\",accuracy_score(Y_part,Y_pred))\n",
    "        print(clf_name,\"-REC:\",recall_score(Y_part,Y_pred))\n",
    "        print(clf_name,\"-F1:\",f1_score(Y_part,Y_pred))        "
   ]
  },
  {
   "cell_type": "code",
   "execution_count": null,
   "metadata": {},
   "outputs": [],
   "source": []
  }
 ],
 "metadata": {
  "kernelspec": {
   "display_name": "Python 3",
   "language": "python",
   "name": "python3"
  },
  "language_info": {
   "codemirror_mode": {
    "name": "ipython",
    "version": 3
   },
   "file_extension": ".py",
   "mimetype": "text/x-python",
   "name": "python",
   "nbconvert_exporter": "python",
   "pygments_lexer": "ipython3",
   "version": "3.7.3"
  }
 },
 "nbformat": 4,
 "nbformat_minor": 2
}
