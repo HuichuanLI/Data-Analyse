{
 "cells": [
  {
   "cell_type": "code",
   "execution_count": 1,
   "metadata": {},
   "outputs": [],
   "source": [
    "import numpy as np\n",
    "import pandas as pd\n",
    "from pandas import Series, DataFrame"
   ]
  },
  {
   "cell_type": "code",
   "execution_count": 2,
   "metadata": {},
   "outputs": [],
   "source": [
    "from datetime import datetime\n",
    "t1 = datetime(2009,10,20)"
   ]
  },
  {
   "cell_type": "code",
   "execution_count": 3,
   "metadata": {},
   "outputs": [
    {
     "data": {
      "text/plain": [
       "datetime.datetime(2009, 10, 20, 0, 0)"
      ]
     },
     "execution_count": 3,
     "metadata": {},
     "output_type": "execute_result"
    }
   ],
   "source": [
    "t1"
   ]
  },
  {
   "cell_type": "code",
   "execution_count": 4,
   "metadata": {},
   "outputs": [],
   "source": [
    "date_list = [\n",
    "    datetime(2016,9,1),\n",
    "    datetime(2016,9,10),\n",
    "    datetime(2017,9,1),\n",
    "    datetime(2017,9,20),\n",
    "    datetime(2017,10,1)\n",
    "]"
   ]
  },
  {
   "cell_type": "code",
   "execution_count": 5,
   "metadata": {},
   "outputs": [
    {
     "data": {
      "text/plain": [
       "[datetime.datetime(2016, 9, 1, 0, 0),\n",
       " datetime.datetime(2016, 9, 10, 0, 0),\n",
       " datetime.datetime(2017, 9, 1, 0, 0),\n",
       " datetime.datetime(2017, 9, 20, 0, 0),\n",
       " datetime.datetime(2017, 10, 1, 0, 0)]"
      ]
     },
     "execution_count": 5,
     "metadata": {},
     "output_type": "execute_result"
    }
   ],
   "source": [
    "date_list"
   ]
  },
  {
   "cell_type": "code",
   "execution_count": 6,
   "metadata": {},
   "outputs": [],
   "source": [
    "s1 = Series(np.random.rand(5), index=date_list)"
   ]
  },
  {
   "cell_type": "code",
   "execution_count": 7,
   "metadata": {},
   "outputs": [
    {
     "data": {
      "text/plain": [
       "2016-09-01    0.238690\n",
       "2016-09-10    0.103305\n",
       "2017-09-01    0.388341\n",
       "2017-09-20    0.641755\n",
       "2017-10-01    0.395147\n",
       "dtype: float64"
      ]
     },
     "execution_count": 7,
     "metadata": {},
     "output_type": "execute_result"
    }
   ],
   "source": [
    "s1"
   ]
  },
  {
   "cell_type": "code",
   "execution_count": 8,
   "metadata": {},
   "outputs": [
    {
     "data": {
      "text/plain": [
       "array([0.23869024, 0.10330455, 0.38834103, 0.6417554 , 0.39514731])"
      ]
     },
     "execution_count": 8,
     "metadata": {},
     "output_type": "execute_result"
    }
   ],
   "source": [
    "s1.values"
   ]
  },
  {
   "cell_type": "code",
   "execution_count": 9,
   "metadata": {},
   "outputs": [
    {
     "data": {
      "text/plain": [
       "DatetimeIndex(['2016-09-01', '2016-09-10', '2017-09-01', '2017-09-20',\n",
       "               '2017-10-01'],\n",
       "              dtype='datetime64[ns]', freq=None)"
      ]
     },
     "execution_count": 9,
     "metadata": {},
     "output_type": "execute_result"
    }
   ],
   "source": [
    "s1.index"
   ]
  },
  {
   "cell_type": "code",
   "execution_count": 10,
   "metadata": {},
   "outputs": [
    {
     "data": {
      "text/plain": [
       "0.10330455367208013"
      ]
     },
     "execution_count": 10,
     "metadata": {},
     "output_type": "execute_result"
    }
   ],
   "source": [
    "s1[datetime(2016,9,10)]"
   ]
  },
  {
   "cell_type": "code",
   "execution_count": 11,
   "metadata": {},
   "outputs": [
    {
     "data": {
      "text/plain": [
       "0.10330455367208013"
      ]
     },
     "execution_count": 11,
     "metadata": {},
     "output_type": "execute_result"
    }
   ],
   "source": [
    "s1[1]"
   ]
  },
  {
   "cell_type": "code",
   "execution_count": 12,
   "metadata": {},
   "outputs": [
    {
     "data": {
      "text/plain": [
       "0.10330455367208013"
      ]
     },
     "execution_count": 12,
     "metadata": {},
     "output_type": "execute_result"
    }
   ],
   "source": [
    "s1['20160910']"
   ]
  },
  {
   "cell_type": "code",
   "execution_count": 13,
   "metadata": {},
   "outputs": [
    {
     "data": {
      "text/plain": [
       "2017-09-01    0.388341\n",
       "2017-09-20    0.641755\n",
       "dtype: float64"
      ]
     },
     "execution_count": 13,
     "metadata": {},
     "output_type": "execute_result"
    }
   ],
   "source": [
    "s1['2017-09']"
   ]
  },
  {
   "cell_type": "code",
   "execution_count": 14,
   "metadata": {},
   "outputs": [
    {
     "data": {
      "text/plain": [
       "2016-09-01    0.238690\n",
       "2016-09-10    0.103305\n",
       "dtype: float64"
      ]
     },
     "execution_count": 14,
     "metadata": {},
     "output_type": "execute_result"
    }
   ],
   "source": [
    "s1['2016']"
   ]
  },
  {
   "cell_type": "code",
   "execution_count": 15,
   "metadata": {},
   "outputs": [
    {
     "data": {
      "text/plain": [
       "2017-09-01    0.388341\n",
       "2017-09-20    0.641755\n",
       "2017-10-01    0.395147\n",
       "dtype: float64"
      ]
     },
     "execution_count": 15,
     "metadata": {},
     "output_type": "execute_result"
    }
   ],
   "source": [
    "s1['2017']"
   ]
  },
  {
   "cell_type": "code",
   "execution_count": 16,
   "metadata": {},
   "outputs": [
    {
     "data": {
      "text/plain": [
       "2016-09-01    0.238690\n",
       "2016-09-10    0.103305\n",
       "2017-09-01    0.388341\n",
       "2017-09-20    0.641755\n",
       "2017-10-01    0.395147\n",
       "dtype: float64"
      ]
     },
     "execution_count": 16,
     "metadata": {},
     "output_type": "execute_result"
    }
   ],
   "source": [
    "s1"
   ]
  },
  {
   "cell_type": "code",
   "execution_count": 17,
   "metadata": {},
   "outputs": [],
   "source": [
    "# freq = W-Mon,D\n",
    "date_list_new = pd.date_range('2016-01-01', periods=100, freq='5H')"
   ]
  },
  {
   "cell_type": "code",
   "execution_count": 18,
   "metadata": {},
   "outputs": [],
   "source": [
    "s2 = Series(np.random.rand(100), index=date_list_new)"
   ]
  },
  {
   "cell_type": "code",
   "execution_count": 19,
   "metadata": {},
   "outputs": [
    {
     "data": {
      "text/plain": [
       "2016-01-01 00:00:00    0.794410\n",
       "2016-01-01 05:00:00    0.810138\n",
       "2016-01-01 10:00:00    0.369644\n",
       "2016-01-01 15:00:00    0.981535\n",
       "2016-01-01 20:00:00    0.652571\n",
       "2016-01-02 01:00:00    0.936055\n",
       "2016-01-02 06:00:00    0.496003\n",
       "2016-01-02 11:00:00    0.181852\n",
       "2016-01-02 16:00:00    0.647908\n",
       "2016-01-02 21:00:00    0.610048\n",
       "2016-01-03 02:00:00    0.648876\n",
       "2016-01-03 07:00:00    0.281351\n",
       "2016-01-03 12:00:00    0.497172\n",
       "2016-01-03 17:00:00    0.484977\n",
       "2016-01-03 22:00:00    0.314649\n",
       "2016-01-04 03:00:00    0.880617\n",
       "2016-01-04 08:00:00    0.448645\n",
       "2016-01-04 13:00:00    0.654360\n",
       "2016-01-04 18:00:00    0.263688\n",
       "2016-01-04 23:00:00    0.954168\n",
       "2016-01-05 04:00:00    0.939546\n",
       "2016-01-05 09:00:00    0.630447\n",
       "2016-01-05 14:00:00    0.607580\n",
       "2016-01-05 19:00:00    0.529474\n",
       "2016-01-06 00:00:00    0.619186\n",
       "2016-01-06 05:00:00    0.621107\n",
       "2016-01-06 10:00:00    0.003135\n",
       "2016-01-06 15:00:00    0.833417\n",
       "2016-01-06 20:00:00    0.337972\n",
       "2016-01-07 01:00:00    0.016091\n",
       "                         ...   \n",
       "2016-01-15 14:00:00    0.028274\n",
       "2016-01-15 19:00:00    0.506816\n",
       "2016-01-16 00:00:00    0.096788\n",
       "2016-01-16 05:00:00    0.163447\n",
       "2016-01-16 10:00:00    0.909501\n",
       "2016-01-16 15:00:00    0.637409\n",
       "2016-01-16 20:00:00    0.894710\n",
       "2016-01-17 01:00:00    0.789240\n",
       "2016-01-17 06:00:00    0.246320\n",
       "2016-01-17 11:00:00    0.511281\n",
       "2016-01-17 16:00:00    0.828729\n",
       "2016-01-17 21:00:00    0.966759\n",
       "2016-01-18 02:00:00    0.617425\n",
       "2016-01-18 07:00:00    0.578170\n",
       "2016-01-18 12:00:00    0.214500\n",
       "2016-01-18 17:00:00    0.053271\n",
       "2016-01-18 22:00:00    0.267902\n",
       "2016-01-19 03:00:00    0.181408\n",
       "2016-01-19 08:00:00    0.081630\n",
       "2016-01-19 13:00:00    0.954018\n",
       "2016-01-19 18:00:00    0.787365\n",
       "2016-01-19 23:00:00    0.595151\n",
       "2016-01-20 04:00:00    0.569839\n",
       "2016-01-20 09:00:00    0.073704\n",
       "2016-01-20 14:00:00    0.063008\n",
       "2016-01-20 19:00:00    0.580125\n",
       "2016-01-21 00:00:00    0.116363\n",
       "2016-01-21 05:00:00    0.253193\n",
       "2016-01-21 10:00:00    0.848182\n",
       "2016-01-21 15:00:00    0.538673\n",
       "Freq: 5H, Length: 100, dtype: float64"
      ]
     },
     "execution_count": 19,
     "metadata": {},
     "output_type": "execute_result"
    }
   ],
   "source": [
    "s2"
   ]
  },
  {
   "cell_type": "code",
   "execution_count": null,
   "metadata": {},
   "outputs": [],
   "source": []
  }
 ],
 "metadata": {
  "kernelspec": {
   "display_name": "Python 3",
   "language": "python",
   "name": "python3"
  },
  "language_info": {
   "codemirror_mode": {
    "name": "ipython",
    "version": 3
   },
   "file_extension": ".py",
   "mimetype": "text/x-python",
   "name": "python",
   "nbconvert_exporter": "python",
   "pygments_lexer": "ipython3",
   "version": "3.7.3"
  }
 },
 "nbformat": 4,
 "nbformat_minor": 2
}
