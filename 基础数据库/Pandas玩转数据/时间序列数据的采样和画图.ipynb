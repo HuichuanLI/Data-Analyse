{
 "cells": [
  {
   "cell_type": "code",
   "execution_count": 1,
   "metadata": {},
   "outputs": [],
   "source": [
    "import numpy as np\n",
    "import pandas as pd\n",
    "from pandas import Series, DataFrame"
   ]
  },
  {
   "cell_type": "code",
   "execution_count": 3,
   "metadata": {},
   "outputs": [],
   "source": [
    "t_range = pd.date_range('2016-01-01', '2016-12-31')"
   ]
  },
  {
   "cell_type": "code",
   "execution_count": 4,
   "metadata": {},
   "outputs": [
    {
     "data": {
      "text/plain": [
       "DatetimeIndex(['2016-01-01', '2016-01-02', '2016-01-03', '2016-01-04',\n",
       "               '2016-01-05', '2016-01-06', '2016-01-07', '2016-01-08',\n",
       "               '2016-01-09', '2016-01-10',\n",
       "               ...\n",
       "               '2016-12-22', '2016-12-23', '2016-12-24', '2016-12-25',\n",
       "               '2016-12-26', '2016-12-27', '2016-12-28', '2016-12-29',\n",
       "               '2016-12-30', '2016-12-31'],\n",
       "              dtype='datetime64[ns]', length=366, freq='D')"
      ]
     },
     "execution_count": 4,
     "metadata": {},
     "output_type": "execute_result"
    }
   ],
   "source": [
    "t_range"
   ]
  },
  {
   "cell_type": "code",
   "execution_count": 5,
   "metadata": {},
   "outputs": [],
   "source": [
    "s1 = Series(np.random.randn(len(t_range)), index=t_range)"
   ]
  },
  {
   "cell_type": "code",
   "execution_count": 6,
   "metadata": {},
   "outputs": [
    {
     "data": {
      "text/plain": [
       "-0.14215256530201828"
      ]
     },
     "execution_count": 6,
     "metadata": {},
     "output_type": "execute_result"
    }
   ],
   "source": [
    "s1['2016-01'].mean()"
   ]
  },
  {
   "cell_type": "code",
   "execution_count": 7,
   "metadata": {},
   "outputs": [],
   "source": [
    "s1_month = s1.resample('M').mean()"
   ]
  },
  {
   "cell_type": "code",
   "execution_count": 8,
   "metadata": {},
   "outputs": [
    {
     "data": {
      "text/plain": [
       "DatetimeIndex(['2016-01-31', '2016-02-29', '2016-03-31', '2016-04-30',\n",
       "               '2016-05-31', '2016-06-30', '2016-07-31', '2016-08-31',\n",
       "               '2016-09-30', '2016-10-31', '2016-11-30', '2016-12-31'],\n",
       "              dtype='datetime64[ns]', freq='M')"
      ]
     },
     "execution_count": 8,
     "metadata": {},
     "output_type": "execute_result"
    }
   ],
   "source": [
    "s1_month.index"
   ]
  },
  {
   "cell_type": "code",
   "execution_count": 9,
   "metadata": {},
   "outputs": [
    {
     "data": {
      "text/plain": [
       "array([-1.42152565e-01,  1.44450541e-05,  1.92380342e-01, -1.55931583e-01,\n",
       "        1.26478442e-01,  1.59192378e-02,  1.41295882e-02, -2.66432921e-02,\n",
       "        8.36733820e-02,  1.17397972e-03, -3.13198839e-02,  9.33814593e-02])"
      ]
     },
     "execution_count": 9,
     "metadata": {},
     "output_type": "execute_result"
    }
   ],
   "source": [
    "s1_month.values"
   ]
  },
  {
   "cell_type": "code",
   "execution_count": 10,
   "metadata": {},
   "outputs": [
    {
     "data": {
      "text/plain": [
       "2016-01-01 00:00:00   -0.423783\n",
       "2016-01-01 01:00:00    1.681391\n",
       "2016-01-01 02:00:00    1.681391\n",
       "2016-01-01 03:00:00    1.681391\n",
       "2016-01-01 04:00:00    1.681391\n",
       "2016-01-01 05:00:00    1.681391\n",
       "2016-01-01 06:00:00    1.681391\n",
       "2016-01-01 07:00:00    1.681391\n",
       "2016-01-01 08:00:00    1.681391\n",
       "2016-01-01 09:00:00    1.681391\n",
       "2016-01-01 10:00:00    1.681391\n",
       "2016-01-01 11:00:00    1.681391\n",
       "2016-01-01 12:00:00    1.681391\n",
       "2016-01-01 13:00:00    1.681391\n",
       "2016-01-01 14:00:00    1.681391\n",
       "2016-01-01 15:00:00    1.681391\n",
       "2016-01-01 16:00:00    1.681391\n",
       "2016-01-01 17:00:00    1.681391\n",
       "2016-01-01 18:00:00    1.681391\n",
       "2016-01-01 19:00:00    1.681391\n",
       "2016-01-01 20:00:00    1.681391\n",
       "2016-01-01 21:00:00    1.681391\n",
       "2016-01-01 22:00:00    1.681391\n",
       "2016-01-01 23:00:00    1.681391\n",
       "2016-01-02 00:00:00    1.681391\n",
       "2016-01-02 01:00:00    0.789537\n",
       "2016-01-02 02:00:00    0.789537\n",
       "2016-01-02 03:00:00    0.789537\n",
       "2016-01-02 04:00:00    0.789537\n",
       "2016-01-02 05:00:00    0.789537\n",
       "                         ...   \n",
       "2016-12-29 19:00:00   -0.646704\n",
       "2016-12-29 20:00:00   -0.646704\n",
       "2016-12-29 21:00:00   -0.646704\n",
       "2016-12-29 22:00:00   -0.646704\n",
       "2016-12-29 23:00:00   -0.646704\n",
       "2016-12-30 00:00:00   -0.646704\n",
       "2016-12-30 01:00:00    0.304095\n",
       "2016-12-30 02:00:00    0.304095\n",
       "2016-12-30 03:00:00    0.304095\n",
       "2016-12-30 04:00:00    0.304095\n",
       "2016-12-30 05:00:00    0.304095\n",
       "2016-12-30 06:00:00    0.304095\n",
       "2016-12-30 07:00:00    0.304095\n",
       "2016-12-30 08:00:00    0.304095\n",
       "2016-12-30 09:00:00    0.304095\n",
       "2016-12-30 10:00:00    0.304095\n",
       "2016-12-30 11:00:00    0.304095\n",
       "2016-12-30 12:00:00    0.304095\n",
       "2016-12-30 13:00:00    0.304095\n",
       "2016-12-30 14:00:00    0.304095\n",
       "2016-12-30 15:00:00    0.304095\n",
       "2016-12-30 16:00:00    0.304095\n",
       "2016-12-30 17:00:00    0.304095\n",
       "2016-12-30 18:00:00    0.304095\n",
       "2016-12-30 19:00:00    0.304095\n",
       "2016-12-30 20:00:00    0.304095\n",
       "2016-12-30 21:00:00    0.304095\n",
       "2016-12-30 22:00:00    0.304095\n",
       "2016-12-30 23:00:00    0.304095\n",
       "2016-12-31 00:00:00    0.304095\n",
       "Freq: H, Length: 8761, dtype: float64"
      ]
     },
     "execution_count": 10,
     "metadata": {},
     "output_type": "execute_result"
    }
   ],
   "source": [
    "s1.resample('H').bfill()"
   ]
  },
  {
   "cell_type": "code",
   "execution_count": 11,
   "metadata": {},
   "outputs": [
    {
     "data": {
      "text/plain": [
       "2016-01-01 00:00:00   -0.423783\n",
       "2016-01-01 01:00:00   -0.423783\n",
       "2016-01-01 02:00:00   -0.423783\n",
       "2016-01-01 03:00:00   -0.423783\n",
       "2016-01-01 04:00:00   -0.423783\n",
       "2016-01-01 05:00:00   -0.423783\n",
       "2016-01-01 06:00:00   -0.423783\n",
       "2016-01-01 07:00:00   -0.423783\n",
       "2016-01-01 08:00:00   -0.423783\n",
       "2016-01-01 09:00:00   -0.423783\n",
       "2016-01-01 10:00:00   -0.423783\n",
       "2016-01-01 11:00:00   -0.423783\n",
       "2016-01-01 12:00:00   -0.423783\n",
       "2016-01-01 13:00:00   -0.423783\n",
       "2016-01-01 14:00:00   -0.423783\n",
       "2016-01-01 15:00:00   -0.423783\n",
       "2016-01-01 16:00:00   -0.423783\n",
       "2016-01-01 17:00:00   -0.423783\n",
       "2016-01-01 18:00:00   -0.423783\n",
       "2016-01-01 19:00:00   -0.423783\n",
       "2016-01-01 20:00:00   -0.423783\n",
       "2016-01-01 21:00:00   -0.423783\n",
       "2016-01-01 22:00:00   -0.423783\n",
       "2016-01-01 23:00:00   -0.423783\n",
       "2016-01-02 00:00:00    1.681391\n",
       "2016-01-02 01:00:00    1.681391\n",
       "2016-01-02 02:00:00    1.681391\n",
       "2016-01-02 03:00:00    1.681391\n",
       "2016-01-02 04:00:00    1.681391\n",
       "2016-01-02 05:00:00    1.681391\n",
       "                         ...   \n",
       "2016-12-29 19:00:00    0.618912\n",
       "2016-12-29 20:00:00    0.618912\n",
       "2016-12-29 21:00:00    0.618912\n",
       "2016-12-29 22:00:00    0.618912\n",
       "2016-12-29 23:00:00    0.618912\n",
       "2016-12-30 00:00:00   -0.646704\n",
       "2016-12-30 01:00:00   -0.646704\n",
       "2016-12-30 02:00:00   -0.646704\n",
       "2016-12-30 03:00:00   -0.646704\n",
       "2016-12-30 04:00:00   -0.646704\n",
       "2016-12-30 05:00:00   -0.646704\n",
       "2016-12-30 06:00:00   -0.646704\n",
       "2016-12-30 07:00:00   -0.646704\n",
       "2016-12-30 08:00:00   -0.646704\n",
       "2016-12-30 09:00:00   -0.646704\n",
       "2016-12-30 10:00:00   -0.646704\n",
       "2016-12-30 11:00:00   -0.646704\n",
       "2016-12-30 12:00:00   -0.646704\n",
       "2016-12-30 13:00:00   -0.646704\n",
       "2016-12-30 14:00:00   -0.646704\n",
       "2016-12-30 15:00:00   -0.646704\n",
       "2016-12-30 16:00:00   -0.646704\n",
       "2016-12-30 17:00:00   -0.646704\n",
       "2016-12-30 18:00:00   -0.646704\n",
       "2016-12-30 19:00:00   -0.646704\n",
       "2016-12-30 20:00:00   -0.646704\n",
       "2016-12-30 21:00:00   -0.646704\n",
       "2016-12-30 22:00:00   -0.646704\n",
       "2016-12-30 23:00:00   -0.646704\n",
       "2016-12-31 00:00:00    0.304095\n",
       "Freq: H, Length: 8761, dtype: float64"
      ]
     },
     "execution_count": 11,
     "metadata": {},
     "output_type": "execute_result"
    }
   ],
   "source": [
    "s1.resample('H').ffill()"
   ]
  },
  {
   "cell_type": "code",
   "execution_count": 12,
   "metadata": {},
   "outputs": [],
   "source": [
    "t_range = pd.date_range('2016-01-01', '2016-12-31', freq='H')"
   ]
  },
  {
   "cell_type": "code",
   "execution_count": 13,
   "metadata": {},
   "outputs": [
    {
     "data": {
      "text/plain": [
       "DatetimeIndex(['2016-01-01 00:00:00', '2016-01-01 01:00:00',\n",
       "               '2016-01-01 02:00:00', '2016-01-01 03:00:00',\n",
       "               '2016-01-01 04:00:00', '2016-01-01 05:00:00',\n",
       "               '2016-01-01 06:00:00', '2016-01-01 07:00:00',\n",
       "               '2016-01-01 08:00:00', '2016-01-01 09:00:00',\n",
       "               ...\n",
       "               '2016-12-30 15:00:00', '2016-12-30 16:00:00',\n",
       "               '2016-12-30 17:00:00', '2016-12-30 18:00:00',\n",
       "               '2016-12-30 19:00:00', '2016-12-30 20:00:00',\n",
       "               '2016-12-30 21:00:00', '2016-12-30 22:00:00',\n",
       "               '2016-12-30 23:00:00', '2016-12-31 00:00:00'],\n",
       "              dtype='datetime64[ns]', length=8761, freq='H')"
      ]
     },
     "execution_count": 13,
     "metadata": {},
     "output_type": "execute_result"
    }
   ],
   "source": [
    "t_range"
   ]
  },
  {
   "cell_type": "code",
   "execution_count": 14,
   "metadata": {},
   "outputs": [],
   "source": [
    "stock_df = DataFrame(index=t_range)"
   ]
  },
  {
   "cell_type": "code",
   "execution_count": 15,
   "metadata": {},
   "outputs": [],
   "source": [
    "stock_df['BABA'] = np.random.randint(80, 160, size=len(t_range))"
   ]
  },
  {
   "cell_type": "code",
   "execution_count": 16,
   "metadata": {},
   "outputs": [],
   "source": [
    "stock_df['TENCENT'] = np.random.randint(30, 50, size=len(t_range))"
   ]
  },
  {
   "cell_type": "code",
   "execution_count": 17,
   "metadata": {},
   "outputs": [
    {
     "data": {
      "text/html": [
       "<div>\n",
       "<style scoped>\n",
       "    .dataframe tbody tr th:only-of-type {\n",
       "        vertical-align: middle;\n",
       "    }\n",
       "\n",
       "    .dataframe tbody tr th {\n",
       "        vertical-align: top;\n",
       "    }\n",
       "\n",
       "    .dataframe thead th {\n",
       "        text-align: right;\n",
       "    }\n",
       "</style>\n",
       "<table border=\"1\" class=\"dataframe\">\n",
       "  <thead>\n",
       "    <tr style=\"text-align: right;\">\n",
       "      <th></th>\n",
       "      <th>BABA</th>\n",
       "      <th>TENCENT</th>\n",
       "    </tr>\n",
       "  </thead>\n",
       "  <tbody>\n",
       "    <tr>\n",
       "      <th>2016-01-01 00:00:00</th>\n",
       "      <td>89</td>\n",
       "      <td>45</td>\n",
       "    </tr>\n",
       "    <tr>\n",
       "      <th>2016-01-01 01:00:00</th>\n",
       "      <td>101</td>\n",
       "      <td>44</td>\n",
       "    </tr>\n",
       "    <tr>\n",
       "      <th>2016-01-01 02:00:00</th>\n",
       "      <td>91</td>\n",
       "      <td>39</td>\n",
       "    </tr>\n",
       "    <tr>\n",
       "      <th>2016-01-01 03:00:00</th>\n",
       "      <td>150</td>\n",
       "      <td>32</td>\n",
       "    </tr>\n",
       "    <tr>\n",
       "      <th>2016-01-01 04:00:00</th>\n",
       "      <td>88</td>\n",
       "      <td>33</td>\n",
       "    </tr>\n",
       "  </tbody>\n",
       "</table>\n",
       "</div>"
      ],
      "text/plain": [
       "                     BABA  TENCENT\n",
       "2016-01-01 00:00:00    89       45\n",
       "2016-01-01 01:00:00   101       44\n",
       "2016-01-01 02:00:00    91       39\n",
       "2016-01-01 03:00:00   150       32\n",
       "2016-01-01 04:00:00    88       33"
      ]
     },
     "execution_count": 17,
     "metadata": {},
     "output_type": "execute_result"
    }
   ],
   "source": [
    "stock_df.head()"
   ]
  },
  {
   "cell_type": "code",
   "execution_count": 21,
   "metadata": {},
   "outputs": [
    {
     "data": {
      "text/plain": [
       "<matplotlib.axes._subplots.AxesSubplot at 0x7f94a96fd940>"
      ]
     },
     "execution_count": 21,
     "metadata": {},
     "output_type": "execute_result"
    },
    {
     "data": {
      "image/png": "[encoded data removed]",
      "text/plain": [
       "<Figure size 432x288 with 1 Axes>"
      ]
     },
     "metadata": {
      "needs_background": "light"
     },
     "output_type": "display_data"
    }
   ],
   "source": [
    "stock_df.plot()"
   ]
  },
  {
   "cell_type": "code",
   "execution_count": 20,
   "metadata": {},
   "outputs": [],
   "source": [
    "import matplotlib.pyplot as plt\n",
    "plt.show()"
   ]
  },
  {
   "cell_type": "code",
   "execution_count": null,
   "metadata": {},
   "outputs": [],
   "source": []
  }
 ],
 "metadata": {
  "kernelspec": {
   "display_name": "Python 3",
   "language": "python",
   "name": "python3"
  },
  "language_info": {
   "codemirror_mode": {
    "name": "ipython",
    "version": 3
   },
   "file_extension": ".py",
   "mimetype": "text/x-python",
   "name": "python",
   "nbconvert_exporter": "python",
   "pygments_lexer": "ipython3",
   "version": "3.7.3"
  }
 },
 "nbformat": 4,
 "nbformat_minor": 2
}
