{
 "cells": [
  {
   "cell_type": "code",
   "execution_count": 1,
   "metadata": {},
   "outputs": [],
   "source": [
    "import numpy as np\n",
    "import pandas as pd\n",
    "from pandas import Series, DataFrame"
   ]
  },
  {
   "cell_type": "markdown",
   "metadata": {},
   "source": [
    "# Series的排序"
   ]
  },
  {
   "cell_type": "code",
   "execution_count": 2,
   "metadata": {},
   "outputs": [],
   "source": [
    "s1 = Series(np.random.randn(10))"
   ]
  },
  {
   "cell_type": "code",
   "execution_count": 3,
   "metadata": {},
   "outputs": [
    {
     "data": {
      "text/plain": [
       "0   -1.688618\n",
       "1   -1.052942\n",
       "2    0.971411\n",
       "3   -1.609196\n",
       "4   -0.293852\n",
       "5    0.898115\n",
       "6    1.519560\n",
       "7   -1.538302\n",
       "8   -0.614688\n",
       "9    1.005417\n",
       "dtype: float64"
      ]
     },
     "execution_count": 3,
     "metadata": {},
     "output_type": "execute_result"
    }
   ],
   "source": [
    "s1"
   ]
  },
  {
   "cell_type": "code",
   "execution_count": 4,
   "metadata": {},
   "outputs": [
    {
     "data": {
      "text/plain": [
       "array([-1.68861824, -1.05294243,  0.97141128, -1.609196  , -0.29385157,\n",
       "        0.89811526,  1.51956017, -1.5383021 , -0.61468816,  1.00541688])"
      ]
     },
     "execution_count": 4,
     "metadata": {},
     "output_type": "execute_result"
    }
   ],
   "source": [
    "s1.values"
   ]
  },
  {
   "cell_type": "code",
   "execution_count": 5,
   "metadata": {},
   "outputs": [
    {
     "data": {
      "text/plain": [
       "RangeIndex(start=0, stop=10, step=1)"
      ]
     },
     "execution_count": 5,
     "metadata": {},
     "output_type": "execute_result"
    }
   ],
   "source": [
    "s1.index"
   ]
  },
  {
   "cell_type": "code",
   "execution_count": 6,
   "metadata": {},
   "outputs": [],
   "source": [
    "s2 = s1.sort_values(ascending=False)"
   ]
  },
  {
   "cell_type": "code",
   "execution_count": 7,
   "metadata": {},
   "outputs": [
    {
     "data": {
      "text/plain": [
       "6    1.519560\n",
       "9    1.005417\n",
       "2    0.971411\n",
       "5    0.898115\n",
       "4   -0.293852\n",
       "8   -0.614688\n",
       "1   -1.052942\n",
       "7   -1.538302\n",
       "3   -1.609196\n",
       "0   -1.688618\n",
       "dtype: float64"
      ]
     },
     "execution_count": 7,
     "metadata": {},
     "output_type": "execute_result"
    }
   ],
   "source": [
    "s2"
   ]
  },
  {
   "cell_type": "code",
   "execution_count": 8,
   "metadata": {},
   "outputs": [
    {
     "data": {
      "text/plain": [
       "0   -1.688618\n",
       "1   -1.052942\n",
       "2    0.971411\n",
       "3   -1.609196\n",
       "4   -0.293852\n",
       "5    0.898115\n",
       "6    1.519560\n",
       "7   -1.538302\n",
       "8   -0.614688\n",
       "9    1.005417\n",
       "dtype: float64"
      ]
     },
     "execution_count": 8,
     "metadata": {},
     "output_type": "execute_result"
    }
   ],
   "source": [
    "s2.sort_index()"
   ]
  },
  {
   "cell_type": "markdown",
   "metadata": {},
   "source": [
    "# Dataframe的排序"
   ]
  },
  {
   "cell_type": "code",
   "execution_count": 9,
   "metadata": {},
   "outputs": [],
   "source": [
    "df1 = DataFrame(np.random.randn(40).reshape(8,5), columns=['A','B','C','D','E'])"
   ]
  },
  {
   "cell_type": "code",
   "execution_count": 10,
   "metadata": {},
   "outputs": [
    {
     "data": {
      "text/html": [
       "<div>\n",
       "<style scoped>\n",
       "    .dataframe tbody tr th:only-of-type {\n",
       "        vertical-align: middle;\n",
       "    }\n",
       "\n",
       "    .dataframe tbody tr th {\n",
       "        vertical-align: top;\n",
       "    }\n",
       "\n",
       "    .dataframe thead th {\n",
       "        text-align: right;\n",
       "    }\n",
       "</style>\n",
       "<table border=\"1\" class=\"dataframe\">\n",
       "  <thead>\n",
       "    <tr style=\"text-align: right;\">\n",
       "      <th></th>\n",
       "      <th>A</th>\n",
       "      <th>B</th>\n",
       "      <th>C</th>\n",
       "      <th>D</th>\n",
       "      <th>E</th>\n",
       "    </tr>\n",
       "  </thead>\n",
       "  <tbody>\n",
       "    <tr>\n",
       "      <th>0</th>\n",
       "      <td>-2.594699</td>\n",
       "      <td>0.330154</td>\n",
       "      <td>0.960197</td>\n",
       "      <td>2.491377</td>\n",
       "      <td>-0.036978</td>\n",
       "    </tr>\n",
       "    <tr>\n",
       "      <th>1</th>\n",
       "      <td>-1.535822</td>\n",
       "      <td>-0.819380</td>\n",
       "      <td>0.457898</td>\n",
       "      <td>-0.328164</td>\n",
       "      <td>-0.389328</td>\n",
       "    </tr>\n",
       "    <tr>\n",
       "      <th>2</th>\n",
       "      <td>-2.232885</td>\n",
       "      <td>-0.113702</td>\n",
       "      <td>-0.203547</td>\n",
       "      <td>-1.380787</td>\n",
       "      <td>0.276764</td>\n",
       "    </tr>\n",
       "    <tr>\n",
       "      <th>3</th>\n",
       "      <td>0.071655</td>\n",
       "      <td>1.486058</td>\n",
       "      <td>-0.130194</td>\n",
       "      <td>-0.755169</td>\n",
       "      <td>-0.414296</td>\n",
       "    </tr>\n",
       "    <tr>\n",
       "      <th>4</th>\n",
       "      <td>-1.158672</td>\n",
       "      <td>-1.022450</td>\n",
       "      <td>0.821070</td>\n",
       "      <td>0.982723</td>\n",
       "      <td>1.756416</td>\n",
       "    </tr>\n",
       "    <tr>\n",
       "      <th>5</th>\n",
       "      <td>0.578209</td>\n",
       "      <td>-0.940338</td>\n",
       "      <td>-0.698146</td>\n",
       "      <td>0.338848</td>\n",
       "      <td>1.789125</td>\n",
       "    </tr>\n",
       "    <tr>\n",
       "      <th>6</th>\n",
       "      <td>0.436118</td>\n",
       "      <td>1.270526</td>\n",
       "      <td>0.981997</td>\n",
       "      <td>0.029929</td>\n",
       "      <td>-0.896280</td>\n",
       "    </tr>\n",
       "    <tr>\n",
       "      <th>7</th>\n",
       "      <td>-0.960742</td>\n",
       "      <td>0.857556</td>\n",
       "      <td>0.984147</td>\n",
       "      <td>1.220367</td>\n",
       "      <td>-0.370950</td>\n",
       "    </tr>\n",
       "  </tbody>\n",
       "</table>\n",
       "</div>"
      ],
      "text/plain": [
       "          A         B         C         D         E\n",
       "0 -2.594699  0.330154  0.960197  2.491377 -0.036978\n",
       "1 -1.535822 -0.819380  0.457898 -0.328164 -0.389328\n",
       "2 -2.232885 -0.113702 -0.203547 -1.380787  0.276764\n",
       "3  0.071655  1.486058 -0.130194 -0.755169 -0.414296\n",
       "4 -1.158672 -1.022450  0.821070  0.982723  1.756416\n",
       "5  0.578209 -0.940338 -0.698146  0.338848  1.789125\n",
       "6  0.436118  1.270526  0.981997  0.029929 -0.896280\n",
       "7 -0.960742  0.857556  0.984147  1.220367 -0.370950"
      ]
     },
     "execution_count": 10,
     "metadata": {},
     "output_type": "execute_result"
    }
   ],
   "source": [
    "df1"
   ]
  },
  {
   "cell_type": "code",
   "execution_count": 11,
   "metadata": {},
   "outputs": [
    {
     "data": {
      "text/plain": [
       "0   -2.594699\n",
       "2   -2.232885\n",
       "1   -1.535822\n",
       "4   -1.158672\n",
       "7   -0.960742\n",
       "3    0.071655\n",
       "6    0.436118\n",
       "5    0.578209\n",
       "Name: A, dtype: float64"
      ]
     },
     "execution_count": 11,
     "metadata": {},
     "output_type": "execute_result"
    }
   ],
   "source": [
    "df1['A'].sort_values()"
   ]
  },
  {
   "cell_type": "code",
   "execution_count": 12,
   "metadata": {},
   "outputs": [],
   "source": [
    "df2 = df1.sort_values('A')"
   ]
  },
  {
   "cell_type": "code",
   "execution_count": 13,
   "metadata": {},
   "outputs": [
    {
     "data": {
      "text/html": [
       "<div>\n",
       "<style scoped>\n",
       "    .dataframe tbody tr th:only-of-type {\n",
       "        vertical-align: middle;\n",
       "    }\n",
       "\n",
       "    .dataframe tbody tr th {\n",
       "        vertical-align: top;\n",
       "    }\n",
       "\n",
       "    .dataframe thead th {\n",
       "        text-align: right;\n",
       "    }\n",
       "</style>\n",
       "<table border=\"1\" class=\"dataframe\">\n",
       "  <thead>\n",
       "    <tr style=\"text-align: right;\">\n",
       "      <th></th>\n",
       "      <th>A</th>\n",
       "      <th>B</th>\n",
       "      <th>C</th>\n",
       "      <th>D</th>\n",
       "      <th>E</th>\n",
       "    </tr>\n",
       "  </thead>\n",
       "  <tbody>\n",
       "    <tr>\n",
       "      <th>0</th>\n",
       "      <td>-2.594699</td>\n",
       "      <td>0.330154</td>\n",
       "      <td>0.960197</td>\n",
       "      <td>2.491377</td>\n",
       "      <td>-0.036978</td>\n",
       "    </tr>\n",
       "    <tr>\n",
       "      <th>2</th>\n",
       "      <td>-2.232885</td>\n",
       "      <td>-0.113702</td>\n",
       "      <td>-0.203547</td>\n",
       "      <td>-1.380787</td>\n",
       "      <td>0.276764</td>\n",
       "    </tr>\n",
       "    <tr>\n",
       "      <th>1</th>\n",
       "      <td>-1.535822</td>\n",
       "      <td>-0.819380</td>\n",
       "      <td>0.457898</td>\n",
       "      <td>-0.328164</td>\n",
       "      <td>-0.389328</td>\n",
       "    </tr>\n",
       "    <tr>\n",
       "      <th>4</th>\n",
       "      <td>-1.158672</td>\n",
       "      <td>-1.022450</td>\n",
       "      <td>0.821070</td>\n",
       "      <td>0.982723</td>\n",
       "      <td>1.756416</td>\n",
       "    </tr>\n",
       "    <tr>\n",
       "      <th>7</th>\n",
       "      <td>-0.960742</td>\n",
       "      <td>0.857556</td>\n",
       "      <td>0.984147</td>\n",
       "      <td>1.220367</td>\n",
       "      <td>-0.370950</td>\n",
       "    </tr>\n",
       "    <tr>\n",
       "      <th>3</th>\n",
       "      <td>0.071655</td>\n",
       "      <td>1.486058</td>\n",
       "      <td>-0.130194</td>\n",
       "      <td>-0.755169</td>\n",
       "      <td>-0.414296</td>\n",
       "    </tr>\n",
       "    <tr>\n",
       "      <th>6</th>\n",
       "      <td>0.436118</td>\n",
       "      <td>1.270526</td>\n",
       "      <td>0.981997</td>\n",
       "      <td>0.029929</td>\n",
       "      <td>-0.896280</td>\n",
       "    </tr>\n",
       "    <tr>\n",
       "      <th>5</th>\n",
       "      <td>0.578209</td>\n",
       "      <td>-0.940338</td>\n",
       "      <td>-0.698146</td>\n",
       "      <td>0.338848</td>\n",
       "      <td>1.789125</td>\n",
       "    </tr>\n",
       "  </tbody>\n",
       "</table>\n",
       "</div>"
      ],
      "text/plain": [
       "          A         B         C         D         E\n",
       "0 -2.594699  0.330154  0.960197  2.491377 -0.036978\n",
       "2 -2.232885 -0.113702 -0.203547 -1.380787  0.276764\n",
       "1 -1.535822 -0.819380  0.457898 -0.328164 -0.389328\n",
       "4 -1.158672 -1.022450  0.821070  0.982723  1.756416\n",
       "7 -0.960742  0.857556  0.984147  1.220367 -0.370950\n",
       "3  0.071655  1.486058 -0.130194 -0.755169 -0.414296\n",
       "6  0.436118  1.270526  0.981997  0.029929 -0.896280\n",
       "5  0.578209 -0.940338 -0.698146  0.338848  1.789125"
      ]
     },
     "execution_count": 13,
     "metadata": {},
     "output_type": "execute_result"
    }
   ],
   "source": [
    "df2"
   ]
  },
  {
   "cell_type": "code",
   "execution_count": 14,
   "metadata": {},
   "outputs": [
    {
     "data": {
      "text/html": [
       "<div>\n",
       "<style scoped>\n",
       "    .dataframe tbody tr th:only-of-type {\n",
       "        vertical-align: middle;\n",
       "    }\n",
       "\n",
       "    .dataframe tbody tr th {\n",
       "        vertical-align: top;\n",
       "    }\n",
       "\n",
       "    .dataframe thead th {\n",
       "        text-align: right;\n",
       "    }\n",
       "</style>\n",
       "<table border=\"1\" class=\"dataframe\">\n",
       "  <thead>\n",
       "    <tr style=\"text-align: right;\">\n",
       "      <th></th>\n",
       "      <th>A</th>\n",
       "      <th>B</th>\n",
       "      <th>C</th>\n",
       "      <th>D</th>\n",
       "      <th>E</th>\n",
       "    </tr>\n",
       "  </thead>\n",
       "  <tbody>\n",
       "    <tr>\n",
       "      <th>0</th>\n",
       "      <td>-2.594699</td>\n",
       "      <td>0.330154</td>\n",
       "      <td>0.960197</td>\n",
       "      <td>2.491377</td>\n",
       "      <td>-0.036978</td>\n",
       "    </tr>\n",
       "    <tr>\n",
       "      <th>1</th>\n",
       "      <td>-1.535822</td>\n",
       "      <td>-0.819380</td>\n",
       "      <td>0.457898</td>\n",
       "      <td>-0.328164</td>\n",
       "      <td>-0.389328</td>\n",
       "    </tr>\n",
       "    <tr>\n",
       "      <th>2</th>\n",
       "      <td>-2.232885</td>\n",
       "      <td>-0.113702</td>\n",
       "      <td>-0.203547</td>\n",
       "      <td>-1.380787</td>\n",
       "      <td>0.276764</td>\n",
       "    </tr>\n",
       "    <tr>\n",
       "      <th>3</th>\n",
       "      <td>0.071655</td>\n",
       "      <td>1.486058</td>\n",
       "      <td>-0.130194</td>\n",
       "      <td>-0.755169</td>\n",
       "      <td>-0.414296</td>\n",
       "    </tr>\n",
       "    <tr>\n",
       "      <th>4</th>\n",
       "      <td>-1.158672</td>\n",
       "      <td>-1.022450</td>\n",
       "      <td>0.821070</td>\n",
       "      <td>0.982723</td>\n",
       "      <td>1.756416</td>\n",
       "    </tr>\n",
       "    <tr>\n",
       "      <th>5</th>\n",
       "      <td>0.578209</td>\n",
       "      <td>-0.940338</td>\n",
       "      <td>-0.698146</td>\n",
       "      <td>0.338848</td>\n",
       "      <td>1.789125</td>\n",
       "    </tr>\n",
       "    <tr>\n",
       "      <th>6</th>\n",
       "      <td>0.436118</td>\n",
       "      <td>1.270526</td>\n",
       "      <td>0.981997</td>\n",
       "      <td>0.029929</td>\n",
       "      <td>-0.896280</td>\n",
       "    </tr>\n",
       "    <tr>\n",
       "      <th>7</th>\n",
       "      <td>-0.960742</td>\n",
       "      <td>0.857556</td>\n",
       "      <td>0.984147</td>\n",
       "      <td>1.220367</td>\n",
       "      <td>-0.370950</td>\n",
       "    </tr>\n",
       "  </tbody>\n",
       "</table>\n",
       "</div>"
      ],
      "text/plain": [
       "          A         B         C         D         E\n",
       "0 -2.594699  0.330154  0.960197  2.491377 -0.036978\n",
       "1 -1.535822 -0.819380  0.457898 -0.328164 -0.389328\n",
       "2 -2.232885 -0.113702 -0.203547 -1.380787  0.276764\n",
       "3  0.071655  1.486058 -0.130194 -0.755169 -0.414296\n",
       "4 -1.158672 -1.022450  0.821070  0.982723  1.756416\n",
       "5  0.578209 -0.940338 -0.698146  0.338848  1.789125\n",
       "6  0.436118  1.270526  0.981997  0.029929 -0.896280\n",
       "7 -0.960742  0.857556  0.984147  1.220367 -0.370950"
      ]
     },
     "execution_count": 14,
     "metadata": {},
     "output_type": "execute_result"
    }
   ],
   "source": [
    "df2.sort_index()"
   ]
  },
  {
   "cell_type": "code",
   "execution_count": 16,
   "metadata": {},
   "outputs": [],
   "source": [
    "df_results = pd.read_csv('movie_metadata.csv')"
   ]
  },
  {
   "cell_type": "code",
   "execution_count": 19,
   "metadata": {},
   "outputs": [
    {
     "data": {
      "text/plain": [
       "Index(['color', 'director_name', 'num_critic_for_reviews', 'duration',\n",
       "       'director_facebook_likes', 'actor_3_facebook_likes', 'actor_2_name',\n",
       "       'actor_1_facebook_likes', 'gross', 'genres', 'actor_1_name',\n",
       "       'movie_title', 'num_voted_users', 'cast_total_facebook_likes',\n",
       "       'actor_3_name', 'facenumber_in_poster', 'plot_keywords',\n",
       "       'movie_imdb_link', 'num_user_for_reviews', 'language', 'country',\n",
       "       'content_rating', 'budget', 'title_year', 'actor_2_facebook_likes',\n",
       "       'imdb_score', 'aspect_ratio', 'movie_facebook_likes'],\n",
       "      dtype='object')"
      ]
     },
     "execution_count": 19,
     "metadata": {},
     "output_type": "execute_result"
    }
   ],
   "source": [
    "df_results.columns"
   ]
  },
  {
   "cell_type": "code",
   "execution_count": 23,
   "metadata": {},
   "outputs": [],
   "source": [
    "df_results[[\"movie_title\",\"director_name\",\"imdb_score\"]].sort_values(\"imdb_score\",ascending=False).to_csv(\"imdb_result.csv\")"
   ]
  },
  {
   "cell_type": "code",
   "execution_count": 24,
   "metadata": {},
   "outputs": [
    {
     "name": "stdout",
     "output_type": "stream",
     "text": [
      "Series和DataFrame的排序.ipynb\r\n",
      "Series和DataFrame的简单数学运算.ipynb\r\n",
      "imdb_result.csv\r\n",
      "\u001b[31mmovie_metadata.csv\u001b[m\u001b[m\r\n"
     ]
    }
   ],
   "source": [
    "!ls"
   ]
  },
  {
   "cell_type": "code",
   "execution_count": null,
   "metadata": {},
   "outputs": [],
   "source": [
    "! more "
   ]
  }
 ],
 "metadata": {
  "kernelspec": {
   "display_name": "Python 3",
   "language": "python",
   "name": "python3"
  },
  "language_info": {
   "codemirror_mode": {
    "name": "ipython",
    "version": 3
   },
   "file_extension": ".py",
   "mimetype": "text/x-python",
   "name": "python",
   "nbconvert_exporter": "python",
   "pygments_lexer": "ipython3",
   "version": "3.7.3"
  }
 },
 "nbformat": 4,
 "nbformat_minor": 2
}
